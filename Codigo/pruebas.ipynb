{
 "cells": [
  {
   "cell_type": "code",
   "execution_count": 1,
   "id": "a040424f",
   "metadata": {},
   "outputs": [],
   "source": [
    "from instance_reader import read_instance\n",
    "from heuristics import greedy_wave_selection\n",
    "from Exact_sol import exact_solution"
   ]
  },
  {
   "cell_type": "code",
   "execution_count": 37,
   "id": "3a152aaa",
   "metadata": {},
   "outputs": [],
   "source": [
    "instance = read_instance(\"datasets/a/instance_0011.txt\")"
   ]
  },
  {
   "cell_type": "code",
   "execution_count": 38,
   "id": "5f414ab8",
   "metadata": {},
   "outputs": [
    {
     "name": "stdout",
     "output_type": "stream",
     "text": [
      "{930: 1, 1743: 1}\n",
      "1\n"
     ]
    }
   ],
   "source": [
    "print(instance.orders[1].items)\n",
    "print(instance.orders[1].index)"
   ]
  },
  {
   "cell_type": "code",
   "execution_count": 39,
   "id": "ea5fdf5c",
   "metadata": {},
   "outputs": [
    {
     "name": "stdout",
     "output_type": "stream",
     "text": [
      "1029\n",
      "375\n"
     ]
    }
   ],
   "source": [
    "print(len(instance.orders))\n",
    "print(len(instance.runners))"
   ]
  },
  {
   "cell_type": "code",
   "execution_count": 40,
   "id": "89718305",
   "metadata": {},
   "outputs": [
    {
     "name": "stdout",
     "output_type": "stream",
     "text": [
      "0\n",
      "{51: 6, 100: 2, 121: 2, 228: 2, 243: 1, 272: 1, 375: 1, 410: 1, 425: 2, 515: 2, 554: 5, 590: 2, 697: 1, 870: 8, 887: 1, 910: 2, 946: 1, 981: 1, 1002: 1, 1075: 3, 1094: 2, 1218: 3, 1280: 3, 1331: 15, 1368: 1, 1412: 1, 1452: 9, 1481: 12, 1625: 1, 1654: 3, 1750: 2, 1764: 1, 1844: 1, 1860: 3, 1886: 1, 1919: 1, 2050: 2, 2067: 1, 2167: 6, 2193: 1, 2208: 1, 2277: 5, 2278: 1, 2357: 1, 2393: 4, 2428: 3, 2560: 1, 2609: 4, 2717: 2, 2725: 1, 2754: 3}\n",
      "False\n"
     ]
    }
   ],
   "source": [
    "print(instance.runners[0].index)\n",
    "print(instance.runners[0].stock)\n",
    "print(instance.runners[0].can_fulfill(33, 1))"
   ]
  },
  {
   "cell_type": "code",
   "execution_count": 41,
   "id": "8abe4817",
   "metadata": {},
   "outputs": [
    {
     "name": "stdout",
     "output_type": "stream",
     "text": [
      "2045\n",
      "330\n"
     ]
    }
   ],
   "source": [
    "print(instance.ub)\n",
    "print(instance.lb)"
   ]
  },
  {
   "cell_type": "code",
   "execution_count": 42,
   "id": "053184ce",
   "metadata": {},
   "outputs": [
    {
     "name": "stdout",
     "output_type": "stream",
     "text": [
      "2784\n"
     ]
    }
   ],
   "source": [
    "print(instance.num_items)"
   ]
  },
  {
   "cell_type": "code",
   "execution_count": null,
   "id": "1ec73087",
   "metadata": {},
   "outputs": [],
   "source": [
    "exact_solution(instance)"
   ]
  },
  {
   "cell_type": "code",
   "execution_count": null,
   "id": "3a0326de",
   "metadata": {},
   "outputs": [],
   "source": []
  },
  {
   "cell_type": "code",
   "execution_count": null,
   "id": "b5ea765c",
   "metadata": {},
   "outputs": [],
   "source": []
  }
 ],
 "metadata": {
  "kernelspec": {
   "display_name": "Python 3",
   "language": "python",
   "name": "python3"
  },
  "language_info": {
   "codemirror_mode": {
    "name": "ipython",
    "version": 3
   },
   "file_extension": ".py",
   "mimetype": "text/x-python",
   "name": "python",
   "nbconvert_exporter": "python",
   "pygments_lexer": "ipython3",
   "version": "3.11.9"
  }
 },
 "nbformat": 4,
 "nbformat_minor": 5
}
