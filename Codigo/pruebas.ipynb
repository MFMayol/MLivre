{
 "cells": [
  {
   "cell_type": "code",
   "execution_count": 23,
   "id": "a040424f",
   "metadata": {},
   "outputs": [],
   "source": [
    "from instance_reader import read_instance\n",
    "from heuristics import greedy_wave_selection\n",
    "from Low_levels import LowLevel1"
   ]
  },
  {
   "cell_type": "markdown",
   "id": "e2779b85",
   "metadata": {},
   "source": [
    "# instancia"
   ]
  },
  {
   "cell_type": "code",
   "execution_count": 24,
   "id": "3a152aaa",
   "metadata": {},
   "outputs": [],
   "source": [
    "instance = read_instance(\"datasets/a/instance_0002.txt\")"
   ]
  },
  {
   "cell_type": "code",
   "execution_count": 25,
   "id": "5f414ab8",
   "metadata": {},
   "outputs": [
    {
     "name": "stdout",
     "output_type": "stream",
     "text": [
      "Instance: Instance with 7 orders and 33 runners, covering 7 item\n",
      "Order 1: Order 0: {2: 3} (Total units: 3)\n",
      "Order 2: Order 1: {0: 2} (Total units: 2)\n",
      "Order 3: Order 2: {3: 1} (Total units: 1)\n",
      "Order 4: Order 3: {1: 1} (Total units: 1)\n",
      "Order 5: Order 4: {4: 2} (Total units: 2)\n",
      "Order 6: Order 5: {5: 1} (Total units: 1)\n",
      "Order 7: Order 6: {6: 1} (Total units: 1)\n",
      "Instance: Instance with 7 orders and 33 runners, covering 7 item\n",
      "Order 1: Runner 0: {0: 12, 2: 20}, Total units: 32)\n",
      "Order 2: Runner 1: {6: 8}, Total units: 8)\n",
      "Order 3: Runner 2: {4: 14}, Total units: 14)\n",
      "Order 4: Runner 3: {2: 48}, Total units: 48)\n",
      "Order 5: Runner 4: {6: 12}, Total units: 12)\n",
      "Order 6: Runner 5: {6: 16}, Total units: 16)\n",
      "Order 7: Runner 6: {6: 4}, Total units: 4)\n",
      "Order 8: Runner 7: {0: 8}, Total units: 8)\n",
      "Order 9: Runner 8: {3: 88}, Total units: 88)\n",
      "Order 10: Runner 9: {6: 19}, Total units: 19)\n",
      "Order 11: Runner 10: {0: 12, 1: 98, 2: 16}, Total units: 126)\n",
      "Order 12: Runner 11: {6: 1}, Total units: 1)\n",
      "Order 13: Runner 12: {3: 20}, Total units: 20)\n",
      "Order 14: Runner 13: {6: 17}, Total units: 17)\n",
      "Order 15: Runner 14: {0: 6}, Total units: 6)\n",
      "Order 16: Runner 15: {6: 4}, Total units: 4)\n",
      "Order 17: Runner 16: {3: 48}, Total units: 48)\n",
      "Order 18: Runner 17: {6: 1}, Total units: 1)\n",
      "Order 19: Runner 18: {6: 8}, Total units: 8)\n",
      "Order 20: Runner 19: {6: 13}, Total units: 13)\n",
      "Order 21: Runner 20: {6: 14}, Total units: 14)\n",
      "Order 22: Runner 21: {6: 8}, Total units: 8)\n",
      "Order 23: Runner 22: {6: 15}, Total units: 15)\n",
      "Order 24: Runner 23: {4: 13}, Total units: 13)\n",
      "Order 25: Runner 24: {6: 14}, Total units: 14)\n",
      "Order 26: Runner 25: {6: 5}, Total units: 5)\n",
      "Order 27: Runner 26: {6: 8}, Total units: 8)\n",
      "Order 28: Runner 27: {6: 6}, Total units: 6)\n",
      "Order 29: Runner 28: {6: 16}, Total units: 16)\n",
      "Order 30: Runner 29: {6: 16}, Total units: 16)\n",
      "Order 31: Runner 30: {6: 23}, Total units: 23)\n",
      "Order 32: Runner 31: {6: 18}, Total units: 18)\n",
      "Order 33: Runner 32: {5: 8}, Total units: 8)\n"
     ]
    }
   ],
   "source": [
    "# printeamos las ordenes\n",
    "print(\"Instance:\", instance)\n",
    "for i, order in enumerate(instance.orders):\n",
    "    print(f\"Order {i + 1}: {order}\")\n",
    "\n",
    "    # printeamos los pasillos\n",
    "print(\"Instance:\", instance)\n",
    "for i, runner in enumerate(instance.runners):\n",
    "    print(f\"Order {i + 1}: {runner}\")"
   ]
  },
  {
   "cell_type": "markdown",
   "id": "6ffa6517",
   "metadata": {},
   "source": [
    "# solucion"
   ]
  },
  {
   "cell_type": "code",
   "execution_count": 26,
   "id": "3a0326de",
   "metadata": {},
   "outputs": [
    {
     "name": "stdout",
     "output_type": "stream",
     "text": [
      "La solución escoje las ordenes (0,) con un total de 3 unidades y los corredores (10,) con un valor objetivo de 3.00.\n",
      "0 {2: 3}\n",
      "------------------\n",
      "10 {0: 12, 1: 98, 2: 16}\n"
     ]
    }
   ],
   "source": [
    "solucion = instance.constructora()\n",
    "print(solucion)\n",
    "\n",
    "for orden in solucion.selected_orders:\n",
    "    print(orden.index, orden.items)\n",
    "\n",
    "print(\"------------------\")\n",
    "for runner in solucion.selected_runners:\n",
    "    print(runner.index, runner.stock)\n"
   ]
  },
  {
   "cell_type": "markdown",
   "id": "fffd6aa2",
   "metadata": {},
   "source": [
    "# Low Levels"
   ]
  },
  {
   "cell_type": "code",
   "execution_count": 27,
   "id": "f3a15057",
   "metadata": {},
   "outputs": [
    {
     "name": "stdout",
     "output_type": "stream",
     "text": [
      "Final solution:\n",
      "3.0\n"
     ]
    }
   ],
   "source": [
    "low_level = LowLevel1(id=1, nombre= \"LowLevel1\")\n",
    "# ejecutamos la implementacion del low level hasta que no se pueda mejorar mas\n",
    "obj_val = 0\n",
    "while True:\n",
    "    solucion_antigua = solucion\n",
    "    solucion = low_level.implementacion(solucion_antigua=solucion)\n",
    "    if solucion.objective_value == obj_val:\n",
    "        break\n",
    "    obj_val = solucion.objective_value\n",
    "print(\"Final solution:\")\n",
    "print(solucion.objective_value)\n"
   ]
  },
  {
   "cell_type": "code",
   "execution_count": 28,
   "id": "c095cfb0",
   "metadata": {},
   "outputs": [
    {
     "name": "stdout",
     "output_type": "stream",
     "text": [
      "3\n",
      "1\n"
     ]
    }
   ],
   "source": [
    "print(solucion.total_units)\n",
    "print(solucion.num_runners)"
   ]
  },
  {
   "cell_type": "code",
   "execution_count": null,
   "id": "f1c578df",
   "metadata": {},
   "outputs": [],
   "source": []
  }
 ],
 "metadata": {
  "kernelspec": {
   "display_name": "Python 3",
   "language": "python",
   "name": "python3"
  },
  "language_info": {
   "codemirror_mode": {
    "name": "ipython",
    "version": 3
   },
   "file_extension": ".py",
   "mimetype": "text/x-python",
   "name": "python",
   "nbconvert_exporter": "python",
   "pygments_lexer": "ipython3",
   "version": "3.11.9"
  }
 },
 "nbformat": 4,
 "nbformat_minor": 5
}
