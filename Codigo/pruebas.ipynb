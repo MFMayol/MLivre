{
 "cells": [
  {
   "cell_type": "code",
   "execution_count": 1,
   "id": "a040424f",
   "metadata": {},
   "outputs": [],
   "source": [
    "from instance_reader import read_instance\n",
    "from heuristics import greedy_wave_selection\n",
    "from Low_levels import *\n",
    "import random\n",
    "\n",
    "from funciones_auxiliares import seleccionar_segun_probabilidad"
   ]
  },
  {
   "cell_type": "markdown",
   "id": "e2779b85",
   "metadata": {},
   "source": [
    "# instancia"
   ]
  },
  {
   "cell_type": "code",
   "execution_count": 32,
   "id": "3a152aaa",
   "metadata": {},
   "outputs": [],
   "source": [
    "instance = read_instance(\"datasets/a/instance_0004.txt\")"
   ]
  },
  {
   "cell_type": "markdown",
   "id": "fffd6aa2",
   "metadata": {},
   "source": [
    "# Low Levels"
   ]
  },
  {
   "cell_type": "code",
   "execution_count": 33,
   "id": "f3a15057",
   "metadata": {},
   "outputs": [],
   "source": [
    "low_level1 = LowLevel1(id=1, nombre= \"LowLevel1\")\n",
    "low_level2 = LowLevel2(id=2, nombre= \"LowLevel2\")\n",
    "low_level3 = LowLevel3(id=3, nombre= \"LowLevel3\")\n",
    "low_level4 = LowLevel4(id=4, nombre= \"LowLevel4\")\n",
    "low_level5 = LowLevel5(id=5, nombre= \"LowLevel5\")\n",
    "# Definimos una lista de niveles bajos\n",
    "\n",
    "low_levels = [low_level1, low_level2,low_level3, low_level4, low_level5]"
   ]
  },
  {
   "cell_type": "code",
   "execution_count": 34,
   "id": "d590b30b",
   "metadata": {},
   "outputs": [
    {
     "name": "stdout",
     "output_type": "stream",
     "text": [
      "Nueva mejor solucion encontrada:, Con mejor valor0.43902439024390244, secuencia: [2, 1, 2]\n",
      "Nueva mejor solucion encontrada:, Con mejor valor0.4567901234567901, secuencia: [5, 4, 1, 3, 4]\n",
      "Nueva mejor solucion encontrada:, Con mejor valor0.475, secuencia: [4, 3, 1, 0, 4]\n",
      "Nueva mejor solucion encontrada:, Con mejor valor0.4878048780487805, secuencia: [1, 0, 4]\n",
      "Nueva mejor solucion encontrada:, Con mejor valor0.49382716049382713, secuencia: [5, 1, 4, 1, 3, 0, 4, 4]\n",
      "Nueva mejor solucion encontrada:, Con mejor valor0.5, secuencia: [5, 4, 4, 1, 1, 0, 3, 3, 0, 2]\n",
      "Nueva mejor solucion encontrada:, Con mejor valor0.5063291139240507, secuencia: [4, 3, 4, 1, 0, 3, 0, 2]\n",
      "Nueva mejor solucion encontrada:, Con mejor valor0.5128205128205128, secuencia: [2, 1, 0, 0, 3, 0, 0, 4, 3, 3, 3, 4]\n",
      "Nueva mejor solucion encontrada:, Con mejor valor0.5194805194805194, secuencia: [1, 3, 3, 3, 3, 3, 0, 2]\n",
      "Nueva mejor solucion encontrada:, Con mejor valor0.5333333333333333, secuencia: [4, 3, 1, 3, 1, 4, 3, 0, 3, 0, 3, 3, 4]\n",
      "Mejor solucion final: La solución escoje las ordenes (4, 5, 6, 13, 2, 3, 7, 15, 0, 14, 8) con un total de 40 unidades y los corredores (54, 27, 32, 23, 72, 28, 33, 90, 61, 0, 30, 19, 88, 2, 12, 16, 71, 38, 77, 10, 48, 44, 17, 35, 51, 52, 58, 26, 18, 46, 67, 7, 37, 60, 29, 66, 64, 6, 86, 11, 42, 43, 53, 74, 81, 84, 40, 49, 1, 50, 55, 83, 21, 57, 70, 76, 82, 87, 59, 68, 85, 14, 31, 36, 69, 4, 20, 22, 25, 34, 65, 73, 78, 79, 80) con un valor objetivo de 0.53.\n"
     ]
    }
   ],
   "source": [
    "mejor_solucion = None\n",
    "best_value = 0\n",
    "epocs = 10000\n",
    "\n",
    "solucion_inicial_1 = instance.constructora1()\n",
    "solucion_inicial_2 = instance.constructora2()\n",
    "P_ij = np.ones((len(low_levels), len(low_levels)))\n",
    "T_ij = np.zeros((len(low_levels), len(low_levels)))\n",
    "\n",
    "# inicializamos la matriz T_ij con P_ij / sum_{k in low_levels} P_ik\n",
    "for i in range(len(low_levels)):\n",
    "    suma_P_ik = sum(P_ij[i])\n",
    "    for j in range(len(low_levels)):\n",
    "        T_ij[i][j] = P_ij[i][j] / suma_P_ik if suma_P_ik > 0 else 0\n",
    "\n",
    "\n",
    "matriz_secuencias = []\n",
    "for _ in range(epocs):\n",
    "    solucion = random.choice([solucion_inicial_2])\n",
    "    mejor_solucion_temporal = solucion\n",
    "    best_value_temporal = solucion.objective_value\n",
    "    low_level_inicial = None\n",
    "    secuencia = []\n",
    "\n",
    "    while True:\n",
    "\n",
    "        # si no hay una low level inicial, se elige una al azar\n",
    "        if low_level_inicial is None:\n",
    "            low_level_elegida = random.choice(low_levels)\n",
    "            id_eleccion = low_level_elegida.id\n",
    "        else:\n",
    "            probabilidades_siguiente_low_level = T_ij[low_level_inicial.id - 1,:]\n",
    "            id_eleccion = seleccionar_segun_probabilidad(probabilidades_siguiente_low_level)\n",
    "            low_level_elegida = low_levels[id_eleccion]\n",
    "\n",
    "        secuencia.append(id_eleccion)\n",
    "\n",
    "\n",
    "        solucion_nueva = low_level_elegida.implementacion(solucion)\n",
    "\n",
    "        if solucion_nueva.is_factible == False: #or solucion_nueva.objective_value <= solucion.objective_value:\n",
    "            break\n",
    "\n",
    "        if solucion_nueva.objective_value > best_value_temporal:\n",
    "            mejor_solucion_temporal = solucion_nueva\n",
    "            best_value_temporal = solucion_nueva.objective_value\n",
    "\n",
    "        if low_level_inicial is None:\n",
    "            pass\n",
    "        else:\n",
    "            if solucion_nueva.objective_value > best_value_temporal:\n",
    "                P_ij[low_level_inicial.id - 1][low_level_elegida.id - 1] += 1\n",
    "\n",
    "        if low_level_inicial is None:\n",
    "            id_low_level_inicial = low_level_elegida.id\n",
    "           # la matriz T_ij se actualiza con el valor de P_ij/ sum_{k in low_levels} P_ik\n",
    "            suma_P_ik = sum(P_ij[id_low_level_inicial - 1])\n",
    "            for low_level in low_levels:\n",
    "                low_level_id = low_level.id\n",
    "                T_ij[id_low_level_inicial - 1][low_level_id - 1] = P_ij[id_low_level_inicial - 1][low_level_id - 1] / suma_P_ik if suma_P_ik > 0 else 0\n",
    "            \n",
    "        low_level_inicial = low_level_elegida\n",
    "        solucion = solucion_nueva\n",
    "    \n",
    "    if best_value_temporal > best_value:\n",
    "        mejor_solucion = solucion\n",
    "        best_value = best_value_temporal\n",
    "        print(f\"Nueva mejor solucion encontrada:, Con mejor valor{best_value}, secuencia: {secuencia}\")\n",
    "    matriz_secuencias.append(secuencia)\n",
    "\n",
    "print(\"Mejor solucion final:\", mejor_solucion)"
   ]
  },
  {
   "cell_type": "code",
   "execution_count": 27,
   "id": "994c92d8",
   "metadata": {},
   "outputs": [
    {
     "data": {
      "text/plain": [
       "array([1., 1., 1., 1., 1.])"
      ]
     },
     "execution_count": 27,
     "metadata": {},
     "output_type": "execute_result"
    }
   ],
   "source": [
    "P_ij[0,:]"
   ]
  },
  {
   "cell_type": "code",
   "execution_count": null,
   "id": "7b321cfa",
   "metadata": {},
   "outputs": [],
   "source": []
  },
  {
   "cell_type": "code",
   "execution_count": null,
   "id": "e8ad23bf",
   "metadata": {},
   "outputs": [],
   "source": []
  }
 ],
 "metadata": {
  "kernelspec": {
   "display_name": "Python 3",
   "language": "python",
   "name": "python3"
  },
  "language_info": {
   "codemirror_mode": {
    "name": "ipython",
    "version": 3
   },
   "file_extension": ".py",
   "mimetype": "text/x-python",
   "name": "python",
   "nbconvert_exporter": "python",
   "pygments_lexer": "ipython3",
   "version": "3.11.9"
  }
 },
 "nbformat": 4,
 "nbformat_minor": 5
}
