{
 "cells": [
  {
   "cell_type": "code",
   "execution_count": 1,
   "id": "a040424f",
   "metadata": {},
   "outputs": [],
   "source": [
    "from instance_reader import read_instance\n",
    "from heuristics import greedy_wave_selection\n",
    "from Exact_sol import exact_solution\n",
    "from constructora import constructora\n"
   ]
  },
  {
   "cell_type": "code",
   "execution_count": 2,
   "id": "3a152aaa",
   "metadata": {},
   "outputs": [],
   "source": [
    "instance = read_instance(\"datasets/a/instance_0020.txt\")"
   ]
  },
  {
   "cell_type": "code",
   "execution_count": 3,
   "id": "5f414ab8",
   "metadata": {},
   "outputs": [
    {
     "name": "stdout",
     "output_type": "stream",
     "text": [
      "{1: 1, 3: 1}\n",
      "1\n"
     ]
    }
   ],
   "source": [
    "print(instance.orders[1].items)\n",
    "print(instance.orders[1].index)"
   ]
  },
  {
   "cell_type": "code",
   "execution_count": 4,
   "id": "ea5fdf5c",
   "metadata": {},
   "outputs": [
    {
     "name": "stdout",
     "output_type": "stream",
     "text": [
      "5\n",
      "5\n"
     ]
    }
   ],
   "source": [
    "print(len(instance.orders))\n",
    "print(len(instance.runners))"
   ]
  },
  {
   "cell_type": "code",
   "execution_count": 5,
   "id": "89718305",
   "metadata": {},
   "outputs": [
    {
     "name": "stdout",
     "output_type": "stream",
     "text": [
      "0\n",
      "{0: 2, 1: 1, 2: 1, 4: 1}\n",
      "False\n"
     ]
    }
   ],
   "source": [
    "print(instance.runners[0].index)\n",
    "print(instance.runners[0].stock)\n",
    "print(instance.runners[0].can_fulfill(33, 1))"
   ]
  },
  {
   "cell_type": "code",
   "execution_count": 6,
   "id": "8abe4817",
   "metadata": {},
   "outputs": [
    {
     "name": "stdout",
     "output_type": "stream",
     "text": [
      "12\n",
      "5\n"
     ]
    }
   ],
   "source": [
    "print(instance.ub)\n",
    "print(instance.lb)"
   ]
  },
  {
   "cell_type": "code",
   "execution_count": 7,
   "id": "053184ce",
   "metadata": {},
   "outputs": [
    {
     "name": "stdout",
     "output_type": "stream",
     "text": [
      "5\n"
     ]
    }
   ],
   "source": [
    "print(instance.num_items)"
   ]
  },
  {
   "cell_type": "code",
   "execution_count": 8,
   "id": "1ec73087",
   "metadata": {},
   "outputs": [
    {
     "name": "stdout",
     "output_type": "stream",
     "text": [
      "Set parameter Username\n",
      "Set parameter LicenseID to value 2598815\n",
      "Academic license - for non-commercial use only - expires 2025-12-12\n",
      "Set parameter TimeLimit to value 30\n",
      "k=1: Nuevo mejor ratio 5.00 (ÓPTIMO)\n",
      "Set parameter TimeLimit to value 30\n",
      "k=2: Solución ÓPTIMO encontrada (ratio: 5.00)\n",
      "Set parameter TimeLimit to value 30\n",
      "k=3: Solución ÓPTIMO encontrada (ratio: 4.00)\n",
      "Set parameter TimeLimit to value 30\n",
      "k=4: Solución ÓPTIMO encontrada (ratio: 3.00)\n",
      "Set parameter TimeLimit to value 30\n",
      "k=5: Solución ÓPTIMO encontrada (ratio: 2.40)\n",
      "\n",
      "==================================================\n",
      "MEJOR SOLUCIÓN ENCONTRADA\n",
      "==================================================\n",
      "• Corredores utilizados: 1\n",
      "• Unidades servidas: 5.0\n",
      "• Ratio (unidades/corredor): 5.00\n",
      "\n",
      "Órdenes seleccionadas:\n",
      "  - Orden 1: {1: 1, 3: 1} (Total unidades: 2)\n",
      "  - Orden 2: {2: 1, 4: 2} (Total unidades: 3)\n",
      "\n",
      "Corredores seleccionados:\n",
      "  - Corredor 4: {1: 1, 2: 2, 3: 1, 4: 2} (Total stock: 6)\n",
      "==================================================\n",
      "\n"
     ]
    },
    {
     "data": {
      "text/plain": [
       "(5.0, [1, 2], [4])"
      ]
     },
     "execution_count": 8,
     "metadata": {},
     "output_type": "execute_result"
    }
   ],
   "source": [
    "exact_solution(instance)"
   ]
  },
  {
   "cell_type": "code",
   "execution_count": 9,
   "id": "3a0326de",
   "metadata": {},
   "outputs": [
    {
     "data": {
      "text/plain": [
       "<Instance.Solucion at 0x167d9888c90>"
      ]
     },
     "execution_count": 9,
     "metadata": {},
     "output_type": "execute_result"
    }
   ],
   "source": [
    "solucion = instance.constructora()\n",
    "solucion"
   ]
  },
  {
   "cell_type": "code",
   "execution_count": 10,
   "id": "b5ea765c",
   "metadata": {},
   "outputs": [
    {
     "name": "stdout",
     "output_type": "stream",
     "text": [
      "3\n",
      "5\n",
      "------------------\n",
      "5\n"
     ]
    }
   ],
   "source": [
    "for orden in solucion.selected_orders:\n",
    "    print(orden.index)\n",
    "    print(orden.total_units)\n",
    "    print(\"------------------\")\n",
    "\n",
    "# ahora vemos elnúmero total de unidades solicitadas por las órdenes seleccionadas\n",
    "print(solucion.total_units())\n"
   ]
  },
  {
   "cell_type": "code",
   "execution_count": 11,
   "id": "bcf6f653",
   "metadata": {},
   "outputs": [
    {
     "name": "stdout",
     "output_type": "stream",
     "text": [
      "1 {0: 2, 1: 1, 2: 2, 4: 1}\n",
      "4 {1: 1, 2: 2, 3: 1, 4: 2}\n",
      "2\n",
      "2.5\n"
     ]
    }
   ],
   "source": [
    "for runner in solucion.selected_runners:\n",
    "    print(runner.index, runner.stock)\n",
    "print(len(solucion.selected_runners))\n",
    "print(solucion.objective_value())"
   ]
  },
  {
   "cell_type": "code",
   "execution_count": 12,
   "id": "e84943c4",
   "metadata": {},
   "outputs": [
    {
     "data": {
      "text/plain": [
       "True"
      ]
     },
     "execution_count": 12,
     "metadata": {},
     "output_type": "execute_result"
    }
   ],
   "source": [
    "solucion.is_factible()"
   ]
  },
  {
   "cell_type": "code",
   "execution_count": null,
   "id": "f3a15057",
   "metadata": {},
   "outputs": [],
   "source": []
  },
  {
   "cell_type": "code",
   "execution_count": null,
   "id": "60ea76f3",
   "metadata": {},
   "outputs": [],
   "source": []
  }
 ],
 "metadata": {
  "kernelspec": {
   "display_name": "Python 3",
   "language": "python",
   "name": "python3"
  },
  "language_info": {
   "codemirror_mode": {
    "name": "ipython",
    "version": 3
   },
   "file_extension": ".py",
   "mimetype": "text/x-python",
   "name": "python",
   "nbconvert_exporter": "python",
   "pygments_lexer": "ipython3",
   "version": "3.11.9"
  }
 },
 "nbformat": 4,
 "nbformat_minor": 5
}
