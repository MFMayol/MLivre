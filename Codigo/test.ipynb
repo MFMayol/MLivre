{
 "cells": [
  {
   "cell_type": "code",
   "execution_count": 1,
   "metadata": {},
   "outputs": [],
   "source": [
    "from instance_reader import read_instance"
   ]
  },
  {
   "cell_type": "code",
   "execution_count": 2,
   "metadata": {},
   "outputs": [],
   "source": [
    "instance = read_instance(\"datasets/a/instance_0020.txt\")\n",
    "solucion = instance.constructora()\n",
    "asignacion = solucion.asignar_ordenes()"
   ]
  },
  {
   "cell_type": "code",
   "execution_count": 3,
   "metadata": {},
   "outputs": [
    {
     "name": "stdout",
     "output_type": "stream",
     "text": [
      "Orden 3:\n",
      "  Corredor 1 abastece:\n",
      "    Item 0: 1 unidades\n",
      "    Item 2: 2 unidades\n",
      "    Item 4: 1 unidades\n",
      "  Corredor 4 abastece:\n",
      "    Item 3: 1 unidades\n",
      "Orden 0:\n",
      "  Corredor 1 abastece:\n",
      "    Item 0: 1 unidades\n",
      "  Corredor 4 abastece:\n",
      "    Item 2: 1 unidades\n",
      "  Corredor 0 abastece:\n",
      "    Item 0: 2 unidades\n"
     ]
    }
   ],
   "source": [
    "for order_id, corredores in asignacion.items():\n",
    "    print(f\"Orden {order_id}:\")\n",
    "    for runner_id, items in corredores.items():\n",
    "        print(f\"  Corredor {runner_id} abastece:\")\n",
    "        for item_id, cantidad in items.items():\n",
    "            print(f\"    Item {item_id}: {cantidad} unidades\")"
   ]
  },
  {
   "cell_type": "code",
   "execution_count": 4,
   "metadata": {},
   "outputs": [
    {
     "name": "stdout",
     "output_type": "stream",
     "text": [
      "La orden 3\n",
      "{0: 1, 2: 2, 3: 1, 4: 1}\n",
      "La orden 0\n",
      "{0: 3, 2: 1}\n",
      "#######################\n",
      "El pasillo 1:\n",
      "{0: 2, 1: 1, 2: 2, 4: 1}\n",
      "El pasillo 4:\n",
      "{1: 1, 2: 2, 3: 1, 4: 2}\n",
      "El pasillo 0:\n",
      "{0: 2, 1: 1, 2: 1, 4: 1}\n"
     ]
    }
   ],
   "source": [
    "for orden in solucion.selected_orders:\n",
    "    print(f'La orden {orden.index}')\n",
    "    print(orden.items)\n",
    "print(\"#######################\")\n",
    "for pasillos in solucion.selected_runners:\n",
    "    print(f'El pasillo {pasillos.index}:')\n",
    "    print(pasillos.stock)"
   ]
  }
 ],
 "metadata": {
  "kernelspec": {
   "display_name": "Python 3",
   "language": "python",
   "name": "python3"
  },
  "language_info": {
   "codemirror_mode": {
    "name": "ipython",
    "version": 3
   },
   "file_extension": ".py",
   "mimetype": "text/x-python",
   "name": "python",
   "nbconvert_exporter": "python",
   "pygments_lexer": "ipython3",
   "version": "3.11.9"
  }
 },
 "nbformat": 4,
 "nbformat_minor": 2
}
