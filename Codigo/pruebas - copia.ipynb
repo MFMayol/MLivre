{
 "cells": [
  {
   "cell_type": "code",
   "execution_count": 1,
   "id": "a040424f",
   "metadata": {},
   "outputs": [],
   "source": [
    "from instance_reader import read_instance\n",
    "from Low_levels_copy import *\n",
    "import numpy as np\n",
    "import random\n",
    "import time\n",
    "from funciones_auxiliares import seleccionar_segun_probabilidad"
   ]
  },
  {
   "cell_type": "markdown",
   "id": "e2779b85",
   "metadata": {},
   "source": [
    "# instancia"
   ]
  },
  {
   "cell_type": "code",
   "execution_count": 20,
   "id": "3a152aaa",
   "metadata": {},
   "outputs": [],
   "source": [
    "instance = read_instance(\"datasets/a/instance_0007.txt\")"
   ]
  },
  {
   "cell_type": "markdown",
   "id": "fffd6aa2",
   "metadata": {},
   "source": [
    "# Low Levels"
   ]
  },
  {
   "cell_type": "code",
   "execution_count": 21,
   "id": "f3a15057",
   "metadata": {},
   "outputs": [],
   "source": [
    "low_level1 = LowLevel3_factibilizadora(id=0, nombre= \"LowLevel1\")\n",
    "\n",
    "# Definimos una lista de niveles bajos\n",
    "\n",
    "low_levels = [low_level1]#, low_level12]"
   ]
  },
  {
   "cell_type": "code",
   "execution_count": 22,
   "id": "21a4172c",
   "metadata": {},
   "outputs": [],
   "source": [
    "sol_inicial = instance.constructora2()"
   ]
  },
  {
   "cell_type": "code",
   "execution_count": 23,
   "id": "b0e35f9a",
   "metadata": {},
   "outputs": [
    {
     "data": {
      "text/plain": [
       "8"
      ]
     },
     "execution_count": 23,
     "metadata": {},
     "output_type": "execute_result"
    }
   ],
   "source": [
    "len(sol_inicial.infesible_type()[2])"
   ]
  },
  {
   "cell_type": "code",
   "execution_count": 28,
   "id": "b53c29f8",
   "metadata": {},
   "outputs": [
    {
     "data": {
      "text/plain": [
       "180"
      ]
     },
     "execution_count": 28,
     "metadata": {},
     "output_type": "execute_result"
    }
   ],
   "source": [
    "len(sol_inicial.selected_runners)"
   ]
  },
  {
   "cell_type": "code",
   "execution_count": 25,
   "id": "b6f93f70",
   "metadata": {},
   "outputs": [
    {
     "name": "stdout",
     "output_type": "stream",
     "text": [
      "1171\n"
     ]
    },
    {
     "data": {
      "text/plain": [
       "8"
      ]
     },
     "execution_count": 25,
     "metadata": {},
     "output_type": "execute_result"
    }
   ],
   "source": [
    "sol_nueva = low_level1.implementacion(sol_inicial)\n",
    "len(sol_nueva.infesible_type()[2])"
   ]
  },
  {
   "cell_type": "code",
   "execution_count": 26,
   "id": "c86d8eaa",
   "metadata": {},
   "outputs": [
    {
     "data": {
      "text/plain": [
       "180"
      ]
     },
     "execution_count": 26,
     "metadata": {},
     "output_type": "execute_result"
    }
   ],
   "source": [
    "len(sol_nueva.id_selected_runners)"
   ]
  },
  {
   "cell_type": "code",
   "execution_count": 8,
   "id": "bf9a1088",
   "metadata": {},
   "outputs": [],
   "source": [
    "class HiperHeuristica():\n",
    "    '''Objeto que aplica el algoritmo'''\n",
    "    def __init__(self, instancia = Instance, V = float, low_levels = list):\n",
    "        self.instancia = instancia # objeto instancia\n",
    "        self.V = V #\n",
    "        self.low_levels = low_levels # lista con low levels\n",
    "        self.n = len(self.low_levels) # int que tiene el número de low levels\n",
    "        self.P = np.ones((self.n,self.n)) # Matriz de contador mejora\n",
    "        self.T = np.zeros((self.n,self.n)) # Matriz transicion mejora\n",
    "        self.Q = np.ones((self.n, 2)) # Matriz de contador freno\n",
    "        self.S = np.zeros((self.n, 2)) # Matriz de probabilidad de freno\n",
    "        self.mejor_sol = self.instancia.constructora2()\n",
    "        self.candidata = self.mejor_sol\n",
    "        self.solucion_temporal = self.mejor_sol\n",
    "        self.secuencia = []\n",
    "        self.s = instancia.ub\n",
    "        #self.soluciones_factibles = []\n",
    "        self.tiempo_maximo = time.time() + 600 # minutos maximos\n",
    "        self.costo_inicial = self.candidata.objective_value - self.candidata.costo_infactible()\n",
    "        self.costo_mejor_solucion = self.mejor_sol.objective_value - self.mejor_sol.costo_infactible()\n",
    "\n",
    "    def actualizar_matrices_T_S(self):\n",
    "        ''' Descripción: \n",
    "        Método que actualiza las matrices \n",
    "            Args : \n",
    "            *   None\n",
    "            Return : \n",
    "            *   None\n",
    "            '''\n",
    "        # primero inicializamos la matriz \n",
    "        for i in range(self.n):\n",
    "                suma_P = sum(self.P[i])\n",
    "                suma_Q = sum(self.Q[i])\n",
    "                self.T[i] = self.P[i] / suma_P\n",
    "                self.S[i] = self.Q[i] / suma_Q\n",
    "\n",
    "    def implementar(self):\n",
    "        self.actualizar_matrices_T_S()\n",
    "        i_last = random.choice(self.low_levels)\n",
    "        id_last =  i_last.id\n",
    "        secuencia = []\n",
    "        secuencia.append(id_last)\n",
    "        \n",
    "        tiempo_inicio = time.time()\n",
    "        \n",
    "        it = 0\n",
    "        \n",
    "        while self.tiempo_maximo - time.time() > 0:\n",
    "            it+=1\n",
    "            id_next = seleccionar_segun_probabilidad(self.T[id_last])\n",
    "            secuencia.append(id_next)\n",
    "            # ahora elegimos el valor u\n",
    "            u_next = seleccionar_segun_probabilidad(self.S[id_last])\n",
    "\n",
    "            if u_next == 1:\n",
    "                sol_temporal = self.candidata\n",
    "                for id in secuencia:\n",
    "                    low_level = self.low_levels[id]\n",
    "                    sol_temporal = low_level.implementacion(sol_temporal)\n",
    "\n",
    "                if  self.condicion_1(sol_temporal, self.candidata) or self.condicion_2(sol_temporal, self.mejor_sol, tiempo_inicio, self.V):\n",
    "                    self.candidata = copy.deepcopy(sol_temporal)\n",
    "                    for id in range(len(secuencia)-1):\n",
    "                        self.P[secuencia[id], secuencia[id+1]] = self.P[secuencia[id], secuencia[id+1]] + 1\n",
    "                        self.Q[secuencia[id], 0] = self.Q[secuencia[id], 0] + 1\n",
    "                    self.Q[secuencia[-1], 1] = self.Q[secuencia[-1], 1] + 1\n",
    "                    \n",
    "                    self.actualizar_matrices_T_S()\n",
    "                \n",
    "                if self.condicion_1(sol_temporal, self.mejor_sol):\n",
    "                    self.mejor_sol = copy.deepcopy(sol_temporal)\n",
    "                \n",
    "                print(f\"Conteo = {it}, secuencia = {secuencia}, s_t = {sol_temporal.objective_value:.2f} {sol_temporal.is_factible}, s_c = {self.candidata.objective_value:.2f} {self.candidata.is_factible}, s* = {self.mejor_sol.objective_value:.2f} {self.mejor_sol.is_factible}\") \n",
    "                secuencia = []\n",
    "                \n",
    "            id_last = id_next\n",
    "                    \n",
    "                \n",
    "\n",
    "    def condicion_1(self, sol_temporal: Solucion, sol_candidata : Solucion):\n",
    "        if sol_temporal.objective_value - self.s*sol_temporal.costo_infactible() > sol_candidata.objective_value - self.s*sol_candidata.costo_infactible():\n",
    "            return True\n",
    "        return False\n",
    "    \n",
    "    def condicion_2(self, sol_temporal: Solucion, mejor_sol: Solucion, tiempo_inicio: float, V: float):\n",
    "        time_el = time.time()-tiempo_inicio #Elapsed time\n",
    "        \n",
    "        if mejor_sol.is_factible: #Calculo de threshold según factibilidad de mejor solución\n",
    "            rho = 10**-5 + V*(1-(time_el)/self.tiempo_maximo)\n",
    "        else:\n",
    "            rho = 10**-3\n",
    "        \n",
    "        if sol_temporal.objective_value - self.s*sol_temporal.costo_infactible()  > (1 + rho)*(mejor_sol.objective_value - self.s*mejor_sol.costo_infactible()):\n",
    "            return True\n",
    "        return False\n",
    "        \n",
    "        \n",
    "        "
   ]
  },
  {
   "cell_type": "code",
   "execution_count": 9,
   "id": "ffdb6b92",
   "metadata": {},
   "outputs": [
    {
     "name": "stdout",
     "output_type": "stream",
     "text": [
      "Conteo = 1, secuencia = [0, 0], s_t = 12.35 False, s_c = 12.35 False, s* = 12.35 False\n",
      "Conteo = 4, secuencia = [0, 0, 0], s_t = 12.35 False, s_c = 12.35 False, s* = 12.35 False\n",
      "Conteo = 6, secuencia = [0, 0], s_t = 12.35 False, s_c = 12.35 False, s* = 12.35 False\n",
      "Conteo = 7, secuencia = [0], s_t = 12.35 False, s_c = 12.35 False, s* = 12.35 False\n",
      "Conteo = 8, secuencia = [0], s_t = 12.35 False, s_c = 12.35 False, s* = 12.35 False\n",
      "Conteo = 13, secuencia = [0, 0, 0, 0, 0], s_t = 12.35 False, s_c = 12.35 False, s* = 12.35 False\n",
      "Conteo = 15, secuencia = [0, 0], s_t = 12.35 False, s_c = 12.35 False, s* = 12.35 False\n",
      "Conteo = 17, secuencia = [0, 0], s_t = 12.35 False, s_c = 12.35 False, s* = 12.35 False\n",
      "Conteo = 19, secuencia = [0, 0], s_t = 12.35 False, s_c = 12.35 False, s* = 12.35 False\n",
      "Conteo = 21, secuencia = [0, 0], s_t = 12.35 False, s_c = 12.35 False, s* = 12.35 False\n",
      "Conteo = 22, secuencia = [0], s_t = 12.35 False, s_c = 12.35 False, s* = 12.35 False\n",
      "Conteo = 26, secuencia = [0, 0, 0, 0], s_t = 12.35 False, s_c = 12.35 False, s* = 12.35 False\n",
      "Conteo = 28, secuencia = [0, 0], s_t = 12.35 False, s_c = 12.35 False, s* = 12.35 False\n",
      "Conteo = 33, secuencia = [0, 0, 0, 0, 0], s_t = 12.35 False, s_c = 12.35 False, s* = 12.35 False\n",
      "Conteo = 38, secuencia = [0, 0, 0, 0, 0], s_t = 12.35 False, s_c = 12.35 False, s* = 12.35 False\n",
      "Conteo = 39, secuencia = [0], s_t = 12.35 False, s_c = 12.35 False, s* = 12.35 False\n",
      "Conteo = 40, secuencia = [0], s_t = 12.35 False, s_c = 12.35 False, s* = 12.35 False\n",
      "Conteo = 46, secuencia = [0, 0, 0, 0, 0, 0], s_t = 12.35 False, s_c = 12.35 False, s* = 12.35 False\n",
      "Conteo = 48, secuencia = [0, 0], s_t = 12.35 False, s_c = 12.35 False, s* = 12.35 False\n",
      "Conteo = 51, secuencia = [0, 0, 0], s_t = 12.35 False, s_c = 12.35 False, s* = 12.35 False\n",
      "Conteo = 54, secuencia = [0, 0, 0], s_t = 12.35 False, s_c = 12.35 False, s* = 12.35 False\n",
      "Conteo = 55, secuencia = [0], s_t = 12.35 False, s_c = 12.35 False, s* = 12.35 False\n",
      "Conteo = 56, secuencia = [0], s_t = 12.35 False, s_c = 12.35 False, s* = 12.35 False\n",
      "Conteo = 58, secuencia = [0, 0], s_t = 12.35 False, s_c = 12.35 False, s* = 12.35 False\n",
      "Conteo = 60, secuencia = [0, 0], s_t = 12.35 False, s_c = 12.35 False, s* = 12.35 False\n",
      "Conteo = 62, secuencia = [0, 0], s_t = 12.35 False, s_c = 12.35 False, s* = 12.35 False\n",
      "Conteo = 64, secuencia = [0, 0], s_t = 12.35 False, s_c = 12.35 False, s* = 12.35 False\n",
      "Conteo = 66, secuencia = [0, 0], s_t = 12.35 False, s_c = 12.35 False, s* = 12.35 False\n",
      "Conteo = 67, secuencia = [0], s_t = 12.35 False, s_c = 12.35 False, s* = 12.35 False\n",
      "Conteo = 69, secuencia = [0, 0], s_t = 12.35 False, s_c = 12.35 False, s* = 12.35 False\n"
     ]
    },
    {
     "ename": "KeyboardInterrupt",
     "evalue": "",
     "output_type": "error",
     "traceback": [
      "\u001b[1;31m---------------------------------------------------------------------------\u001b[0m",
      "\u001b[1;31mKeyboardInterrupt\u001b[0m                         Traceback (most recent call last)",
      "\u001b[1;32m~\\AppData\\Local\\Temp\\ipykernel_22268\\1501472331.py\u001b[0m in \u001b[0;36m<module>\u001b[1;34m\u001b[0m\n\u001b[0;32m      1\u001b[0m \u001b[0mhiper\u001b[0m \u001b[1;33m=\u001b[0m \u001b[0mHiperHeuristica\u001b[0m\u001b[1;33m(\u001b[0m\u001b[0minstancia\u001b[0m\u001b[1;33m=\u001b[0m \u001b[0minstance\u001b[0m\u001b[1;33m,\u001b[0m \u001b[0mV\u001b[0m\u001b[1;33m=\u001b[0m \u001b[1;36m0.05\u001b[0m\u001b[1;33m,\u001b[0m \u001b[0mlow_levels\u001b[0m\u001b[1;33m=\u001b[0m \u001b[0mlow_levels\u001b[0m\u001b[1;33m)\u001b[0m\u001b[1;33m\u001b[0m\u001b[1;33m\u001b[0m\u001b[0m\n\u001b[0;32m      2\u001b[0m \u001b[1;33m\u001b[0m\u001b[0m\n\u001b[1;32m----> 3\u001b[1;33m \u001b[0mhiper\u001b[0m\u001b[1;33m.\u001b[0m\u001b[0mimplementar\u001b[0m\u001b[1;33m(\u001b[0m\u001b[1;33m)\u001b[0m\u001b[1;33m\u001b[0m\u001b[1;33m\u001b[0m\u001b[0m\n\u001b[0m",
      "\u001b[1;32m~\\AppData\\Local\\Temp\\ipykernel_22268\\3083675343.py\u001b[0m in \u001b[0;36mimplementar\u001b[1;34m(self)\u001b[0m\n\u001b[0;32m     57\u001b[0m                 \u001b[1;32mfor\u001b[0m \u001b[0mid\u001b[0m \u001b[1;32min\u001b[0m \u001b[0msecuencia\u001b[0m\u001b[1;33m:\u001b[0m\u001b[1;33m\u001b[0m\u001b[1;33m\u001b[0m\u001b[0m\n\u001b[0;32m     58\u001b[0m                     \u001b[0mlow_level\u001b[0m \u001b[1;33m=\u001b[0m \u001b[0mself\u001b[0m\u001b[1;33m.\u001b[0m\u001b[0mlow_levels\u001b[0m\u001b[1;33m[\u001b[0m\u001b[0mid\u001b[0m\u001b[1;33m]\u001b[0m\u001b[1;33m\u001b[0m\u001b[1;33m\u001b[0m\u001b[0m\n\u001b[1;32m---> 59\u001b[1;33m                     \u001b[0msol_temporal\u001b[0m \u001b[1;33m=\u001b[0m \u001b[0mlow_level\u001b[0m\u001b[1;33m.\u001b[0m\u001b[0mimplementacion\u001b[0m\u001b[1;33m(\u001b[0m\u001b[0msol_temporal\u001b[0m\u001b[1;33m)\u001b[0m\u001b[1;33m\u001b[0m\u001b[1;33m\u001b[0m\u001b[0m\n\u001b[0m\u001b[0;32m     60\u001b[0m \u001b[1;33m\u001b[0m\u001b[0m\n\u001b[0;32m     61\u001b[0m                 \u001b[1;32mif\u001b[0m  \u001b[0mself\u001b[0m\u001b[1;33m.\u001b[0m\u001b[0mcondicion_1\u001b[0m\u001b[1;33m(\u001b[0m\u001b[0msol_temporal\u001b[0m\u001b[1;33m,\u001b[0m \u001b[0mself\u001b[0m\u001b[1;33m.\u001b[0m\u001b[0mcandidata\u001b[0m\u001b[1;33m)\u001b[0m \u001b[1;32mor\u001b[0m \u001b[0mself\u001b[0m\u001b[1;33m.\u001b[0m\u001b[0mcondicion_2\u001b[0m\u001b[1;33m(\u001b[0m\u001b[0msol_temporal\u001b[0m\u001b[1;33m,\u001b[0m \u001b[0mself\u001b[0m\u001b[1;33m.\u001b[0m\u001b[0mmejor_sol\u001b[0m\u001b[1;33m,\u001b[0m \u001b[0mtiempo_inicio\u001b[0m\u001b[1;33m,\u001b[0m \u001b[0mself\u001b[0m\u001b[1;33m.\u001b[0m\u001b[0mV\u001b[0m\u001b[1;33m)\u001b[0m\u001b[1;33m:\u001b[0m\u001b[1;33m\u001b[0m\u001b[1;33m\u001b[0m\u001b[0m\n",
      "\u001b[1;32mc:\\Users\\56964\\Desktop\\Lagos2\\MLivre-main\\Codigo\\Low_levels_copy.py\u001b[0m in \u001b[0;36mimplementacion\u001b[1;34m(self, solucion_antigua)\u001b[0m\n\u001b[0;32m    318\u001b[0m \u001b[1;33m\u001b[0m\u001b[0m\n\u001b[0;32m    319\u001b[0m     \u001b[1;32mdef\u001b[0m \u001b[0mimplementacion\u001b[0m\u001b[1;33m(\u001b[0m\u001b[0mself\u001b[0m\u001b[1;33m,\u001b[0m \u001b[0msolucion_antigua\u001b[0m\u001b[1;33m:\u001b[0m \u001b[0mSolucion\u001b[0m\u001b[1;33m)\u001b[0m \u001b[1;33m->\u001b[0m \u001b[0mSolucion\u001b[0m\u001b[1;33m:\u001b[0m\u001b[1;33m\u001b[0m\u001b[1;33m\u001b[0m\u001b[0m\n\u001b[1;32m--> 320\u001b[1;33m         \u001b[0msolucion\u001b[0m \u001b[1;33m=\u001b[0m \u001b[0mcopy\u001b[0m\u001b[1;33m.\u001b[0m\u001b[0mdeepcopy\u001b[0m\u001b[1;33m(\u001b[0m\u001b[0msolucion_antigua\u001b[0m\u001b[1;33m)\u001b[0m\u001b[1;33m\u001b[0m\u001b[1;33m\u001b[0m\u001b[0m\n\u001b[0m\u001b[0;32m    321\u001b[0m \u001b[1;33m\u001b[0m\u001b[0m\n\u001b[0;32m    322\u001b[0m         \u001b[1;31m# Verifica si hay infactibilidad por stock\u001b[0m\u001b[1;33m\u001b[0m\u001b[1;33m\u001b[0m\u001b[0m\n",
      "\u001b[1;32mc:\\Users\\56964\\anaconda3\\lib\\copy.py\u001b[0m in \u001b[0;36mdeepcopy\u001b[1;34m(x, memo, _nil)\u001b[0m\n\u001b[0;32m    170\u001b[0m                     \u001b[0my\u001b[0m \u001b[1;33m=\u001b[0m \u001b[0mx\u001b[0m\u001b[1;33m\u001b[0m\u001b[1;33m\u001b[0m\u001b[0m\n\u001b[0;32m    171\u001b[0m                 \u001b[1;32melse\u001b[0m\u001b[1;33m:\u001b[0m\u001b[1;33m\u001b[0m\u001b[1;33m\u001b[0m\u001b[0m\n\u001b[1;32m--> 172\u001b[1;33m                     \u001b[0my\u001b[0m \u001b[1;33m=\u001b[0m \u001b[0m_reconstruct\u001b[0m\u001b[1;33m(\u001b[0m\u001b[0mx\u001b[0m\u001b[1;33m,\u001b[0m \u001b[0mmemo\u001b[0m\u001b[1;33m,\u001b[0m \u001b[1;33m*\u001b[0m\u001b[0mrv\u001b[0m\u001b[1;33m)\u001b[0m\u001b[1;33m\u001b[0m\u001b[1;33m\u001b[0m\u001b[0m\n\u001b[0m\u001b[0;32m    173\u001b[0m \u001b[1;33m\u001b[0m\u001b[0m\n\u001b[0;32m    174\u001b[0m     \u001b[1;31m# If is its own copy, don't memoize.\u001b[0m\u001b[1;33m\u001b[0m\u001b[1;33m\u001b[0m\u001b[0m\n",
      "\u001b[1;32mc:\\Users\\56964\\anaconda3\\lib\\copy.py\u001b[0m in \u001b[0;36m_reconstruct\u001b[1;34m(x, memo, func, args, state, listiter, dictiter, deepcopy)\u001b[0m\n\u001b[0;32m    268\u001b[0m     \u001b[1;32mif\u001b[0m \u001b[0mstate\u001b[0m \u001b[1;32mis\u001b[0m \u001b[1;32mnot\u001b[0m \u001b[1;32mNone\u001b[0m\u001b[1;33m:\u001b[0m\u001b[1;33m\u001b[0m\u001b[1;33m\u001b[0m\u001b[0m\n\u001b[0;32m    269\u001b[0m         \u001b[1;32mif\u001b[0m \u001b[0mdeep\u001b[0m\u001b[1;33m:\u001b[0m\u001b[1;33m\u001b[0m\u001b[1;33m\u001b[0m\u001b[0m\n\u001b[1;32m--> 270\u001b[1;33m             \u001b[0mstate\u001b[0m \u001b[1;33m=\u001b[0m \u001b[0mdeepcopy\u001b[0m\u001b[1;33m(\u001b[0m\u001b[0mstate\u001b[0m\u001b[1;33m,\u001b[0m \u001b[0mmemo\u001b[0m\u001b[1;33m)\u001b[0m\u001b[1;33m\u001b[0m\u001b[1;33m\u001b[0m\u001b[0m\n\u001b[0m\u001b[0;32m    271\u001b[0m         \u001b[1;32mif\u001b[0m \u001b[0mhasattr\u001b[0m\u001b[1;33m(\u001b[0m\u001b[0my\u001b[0m\u001b[1;33m,\u001b[0m \u001b[1;34m'__setstate__'\u001b[0m\u001b[1;33m)\u001b[0m\u001b[1;33m:\u001b[0m\u001b[1;33m\u001b[0m\u001b[1;33m\u001b[0m\u001b[0m\n\u001b[0;32m    272\u001b[0m             \u001b[0my\u001b[0m\u001b[1;33m.\u001b[0m\u001b[0m__setstate__\u001b[0m\u001b[1;33m(\u001b[0m\u001b[0mstate\u001b[0m\u001b[1;33m)\u001b[0m\u001b[1;33m\u001b[0m\u001b[1;33m\u001b[0m\u001b[0m\n",
      "\u001b[1;32mc:\\Users\\56964\\anaconda3\\lib\\copy.py\u001b[0m in \u001b[0;36mdeepcopy\u001b[1;34m(x, memo, _nil)\u001b[0m\n\u001b[0;32m    144\u001b[0m     \u001b[0mcopier\u001b[0m \u001b[1;33m=\u001b[0m \u001b[0m_deepcopy_dispatch\u001b[0m\u001b[1;33m.\u001b[0m\u001b[0mget\u001b[0m\u001b[1;33m(\u001b[0m\u001b[0mcls\u001b[0m\u001b[1;33m)\u001b[0m\u001b[1;33m\u001b[0m\u001b[1;33m\u001b[0m\u001b[0m\n\u001b[0;32m    145\u001b[0m     \u001b[1;32mif\u001b[0m \u001b[0mcopier\u001b[0m \u001b[1;32mis\u001b[0m \u001b[1;32mnot\u001b[0m \u001b[1;32mNone\u001b[0m\u001b[1;33m:\u001b[0m\u001b[1;33m\u001b[0m\u001b[1;33m\u001b[0m\u001b[0m\n\u001b[1;32m--> 146\u001b[1;33m         \u001b[0my\u001b[0m \u001b[1;33m=\u001b[0m \u001b[0mcopier\u001b[0m\u001b[1;33m(\u001b[0m\u001b[0mx\u001b[0m\u001b[1;33m,\u001b[0m \u001b[0mmemo\u001b[0m\u001b[1;33m)\u001b[0m\u001b[1;33m\u001b[0m\u001b[1;33m\u001b[0m\u001b[0m\n\u001b[0m\u001b[0;32m    147\u001b[0m     \u001b[1;32melse\u001b[0m\u001b[1;33m:\u001b[0m\u001b[1;33m\u001b[0m\u001b[1;33m\u001b[0m\u001b[0m\n\u001b[0;32m    148\u001b[0m         \u001b[1;32mif\u001b[0m \u001b[0missubclass\u001b[0m\u001b[1;33m(\u001b[0m\u001b[0mcls\u001b[0m\u001b[1;33m,\u001b[0m \u001b[0mtype\u001b[0m\u001b[1;33m)\u001b[0m\u001b[1;33m:\u001b[0m\u001b[1;33m\u001b[0m\u001b[1;33m\u001b[0m\u001b[0m\n",
      "\u001b[1;32mc:\\Users\\56964\\anaconda3\\lib\\copy.py\u001b[0m in \u001b[0;36m_deepcopy_dict\u001b[1;34m(x, memo, deepcopy)\u001b[0m\n\u001b[0;32m    228\u001b[0m     \u001b[0mmemo\u001b[0m\u001b[1;33m[\u001b[0m\u001b[0mid\u001b[0m\u001b[1;33m(\u001b[0m\u001b[0mx\u001b[0m\u001b[1;33m)\u001b[0m\u001b[1;33m]\u001b[0m \u001b[1;33m=\u001b[0m \u001b[0my\u001b[0m\u001b[1;33m\u001b[0m\u001b[1;33m\u001b[0m\u001b[0m\n\u001b[0;32m    229\u001b[0m     \u001b[1;32mfor\u001b[0m \u001b[0mkey\u001b[0m\u001b[1;33m,\u001b[0m \u001b[0mvalue\u001b[0m \u001b[1;32min\u001b[0m \u001b[0mx\u001b[0m\u001b[1;33m.\u001b[0m\u001b[0mitems\u001b[0m\u001b[1;33m(\u001b[0m\u001b[1;33m)\u001b[0m\u001b[1;33m:\u001b[0m\u001b[1;33m\u001b[0m\u001b[1;33m\u001b[0m\u001b[0m\n\u001b[1;32m--> 230\u001b[1;33m         \u001b[0my\u001b[0m\u001b[1;33m[\u001b[0m\u001b[0mdeepcopy\u001b[0m\u001b[1;33m(\u001b[0m\u001b[0mkey\u001b[0m\u001b[1;33m,\u001b[0m \u001b[0mmemo\u001b[0m\u001b[1;33m)\u001b[0m\u001b[1;33m]\u001b[0m \u001b[1;33m=\u001b[0m \u001b[0mdeepcopy\u001b[0m\u001b[1;33m(\u001b[0m\u001b[0mvalue\u001b[0m\u001b[1;33m,\u001b[0m \u001b[0mmemo\u001b[0m\u001b[1;33m)\u001b[0m\u001b[1;33m\u001b[0m\u001b[1;33m\u001b[0m\u001b[0m\n\u001b[0m\u001b[0;32m    231\u001b[0m     \u001b[1;32mreturn\u001b[0m \u001b[0my\u001b[0m\u001b[1;33m\u001b[0m\u001b[1;33m\u001b[0m\u001b[0m\n\u001b[0;32m    232\u001b[0m \u001b[0md\u001b[0m\u001b[1;33m[\u001b[0m\u001b[0mdict\u001b[0m\u001b[1;33m]\u001b[0m \u001b[1;33m=\u001b[0m \u001b[0m_deepcopy_dict\u001b[0m\u001b[1;33m\u001b[0m\u001b[1;33m\u001b[0m\u001b[0m\n",
      "\u001b[1;32mc:\\Users\\56964\\anaconda3\\lib\\copy.py\u001b[0m in \u001b[0;36mdeepcopy\u001b[1;34m(x, memo, _nil)\u001b[0m\n\u001b[0;32m    170\u001b[0m                     \u001b[0my\u001b[0m \u001b[1;33m=\u001b[0m \u001b[0mx\u001b[0m\u001b[1;33m\u001b[0m\u001b[1;33m\u001b[0m\u001b[0m\n\u001b[0;32m    171\u001b[0m                 \u001b[1;32melse\u001b[0m\u001b[1;33m:\u001b[0m\u001b[1;33m\u001b[0m\u001b[1;33m\u001b[0m\u001b[0m\n\u001b[1;32m--> 172\u001b[1;33m                     \u001b[0my\u001b[0m \u001b[1;33m=\u001b[0m \u001b[0m_reconstruct\u001b[0m\u001b[1;33m(\u001b[0m\u001b[0mx\u001b[0m\u001b[1;33m,\u001b[0m \u001b[0mmemo\u001b[0m\u001b[1;33m,\u001b[0m \u001b[1;33m*\u001b[0m\u001b[0mrv\u001b[0m\u001b[1;33m)\u001b[0m\u001b[1;33m\u001b[0m\u001b[1;33m\u001b[0m\u001b[0m\n\u001b[0m\u001b[0;32m    173\u001b[0m \u001b[1;33m\u001b[0m\u001b[0m\n\u001b[0;32m    174\u001b[0m     \u001b[1;31m# If is its own copy, don't memoize.\u001b[0m\u001b[1;33m\u001b[0m\u001b[1;33m\u001b[0m\u001b[0m\n",
      "\u001b[1;32mc:\\Users\\56964\\anaconda3\\lib\\copy.py\u001b[0m in \u001b[0;36m_reconstruct\u001b[1;34m(x, memo, func, args, state, listiter, dictiter, deepcopy)\u001b[0m\n\u001b[0;32m    268\u001b[0m     \u001b[1;32mif\u001b[0m \u001b[0mstate\u001b[0m \u001b[1;32mis\u001b[0m \u001b[1;32mnot\u001b[0m \u001b[1;32mNone\u001b[0m\u001b[1;33m:\u001b[0m\u001b[1;33m\u001b[0m\u001b[1;33m\u001b[0m\u001b[0m\n\u001b[0;32m    269\u001b[0m         \u001b[1;32mif\u001b[0m \u001b[0mdeep\u001b[0m\u001b[1;33m:\u001b[0m\u001b[1;33m\u001b[0m\u001b[1;33m\u001b[0m\u001b[0m\n\u001b[1;32m--> 270\u001b[1;33m             \u001b[0mstate\u001b[0m \u001b[1;33m=\u001b[0m \u001b[0mdeepcopy\u001b[0m\u001b[1;33m(\u001b[0m\u001b[0mstate\u001b[0m\u001b[1;33m,\u001b[0m \u001b[0mmemo\u001b[0m\u001b[1;33m)\u001b[0m\u001b[1;33m\u001b[0m\u001b[1;33m\u001b[0m\u001b[0m\n\u001b[0m\u001b[0;32m    271\u001b[0m         \u001b[1;32mif\u001b[0m \u001b[0mhasattr\u001b[0m\u001b[1;33m(\u001b[0m\u001b[0my\u001b[0m\u001b[1;33m,\u001b[0m \u001b[1;34m'__setstate__'\u001b[0m\u001b[1;33m)\u001b[0m\u001b[1;33m:\u001b[0m\u001b[1;33m\u001b[0m\u001b[1;33m\u001b[0m\u001b[0m\n\u001b[0;32m    272\u001b[0m             \u001b[0my\u001b[0m\u001b[1;33m.\u001b[0m\u001b[0m__setstate__\u001b[0m\u001b[1;33m(\u001b[0m\u001b[0mstate\u001b[0m\u001b[1;33m)\u001b[0m\u001b[1;33m\u001b[0m\u001b[1;33m\u001b[0m\u001b[0m\n",
      "\u001b[1;32mc:\\Users\\56964\\anaconda3\\lib\\copy.py\u001b[0m in \u001b[0;36mdeepcopy\u001b[1;34m(x, memo, _nil)\u001b[0m\n\u001b[0;32m    144\u001b[0m     \u001b[0mcopier\u001b[0m \u001b[1;33m=\u001b[0m \u001b[0m_deepcopy_dispatch\u001b[0m\u001b[1;33m.\u001b[0m\u001b[0mget\u001b[0m\u001b[1;33m(\u001b[0m\u001b[0mcls\u001b[0m\u001b[1;33m)\u001b[0m\u001b[1;33m\u001b[0m\u001b[1;33m\u001b[0m\u001b[0m\n\u001b[0;32m    145\u001b[0m     \u001b[1;32mif\u001b[0m \u001b[0mcopier\u001b[0m \u001b[1;32mis\u001b[0m \u001b[1;32mnot\u001b[0m \u001b[1;32mNone\u001b[0m\u001b[1;33m:\u001b[0m\u001b[1;33m\u001b[0m\u001b[1;33m\u001b[0m\u001b[0m\n\u001b[1;32m--> 146\u001b[1;33m         \u001b[0my\u001b[0m \u001b[1;33m=\u001b[0m \u001b[0mcopier\u001b[0m\u001b[1;33m(\u001b[0m\u001b[0mx\u001b[0m\u001b[1;33m,\u001b[0m \u001b[0mmemo\u001b[0m\u001b[1;33m)\u001b[0m\u001b[1;33m\u001b[0m\u001b[1;33m\u001b[0m\u001b[0m\n\u001b[0m\u001b[0;32m    147\u001b[0m     \u001b[1;32melse\u001b[0m\u001b[1;33m:\u001b[0m\u001b[1;33m\u001b[0m\u001b[1;33m\u001b[0m\u001b[0m\n\u001b[0;32m    148\u001b[0m         \u001b[1;32mif\u001b[0m \u001b[0missubclass\u001b[0m\u001b[1;33m(\u001b[0m\u001b[0mcls\u001b[0m\u001b[1;33m,\u001b[0m \u001b[0mtype\u001b[0m\u001b[1;33m)\u001b[0m\u001b[1;33m:\u001b[0m\u001b[1;33m\u001b[0m\u001b[1;33m\u001b[0m\u001b[0m\n",
      "\u001b[1;32mc:\\Users\\56964\\anaconda3\\lib\\copy.py\u001b[0m in \u001b[0;36m_deepcopy_dict\u001b[1;34m(x, memo, deepcopy)\u001b[0m\n\u001b[0;32m    228\u001b[0m     \u001b[0mmemo\u001b[0m\u001b[1;33m[\u001b[0m\u001b[0mid\u001b[0m\u001b[1;33m(\u001b[0m\u001b[0mx\u001b[0m\u001b[1;33m)\u001b[0m\u001b[1;33m]\u001b[0m \u001b[1;33m=\u001b[0m \u001b[0my\u001b[0m\u001b[1;33m\u001b[0m\u001b[1;33m\u001b[0m\u001b[0m\n\u001b[0;32m    229\u001b[0m     \u001b[1;32mfor\u001b[0m \u001b[0mkey\u001b[0m\u001b[1;33m,\u001b[0m \u001b[0mvalue\u001b[0m \u001b[1;32min\u001b[0m \u001b[0mx\u001b[0m\u001b[1;33m.\u001b[0m\u001b[0mitems\u001b[0m\u001b[1;33m(\u001b[0m\u001b[1;33m)\u001b[0m\u001b[1;33m:\u001b[0m\u001b[1;33m\u001b[0m\u001b[1;33m\u001b[0m\u001b[0m\n\u001b[1;32m--> 230\u001b[1;33m         \u001b[0my\u001b[0m\u001b[1;33m[\u001b[0m\u001b[0mdeepcopy\u001b[0m\u001b[1;33m(\u001b[0m\u001b[0mkey\u001b[0m\u001b[1;33m,\u001b[0m \u001b[0mmemo\u001b[0m\u001b[1;33m)\u001b[0m\u001b[1;33m]\u001b[0m \u001b[1;33m=\u001b[0m \u001b[0mdeepcopy\u001b[0m\u001b[1;33m(\u001b[0m\u001b[0mvalue\u001b[0m\u001b[1;33m,\u001b[0m \u001b[0mmemo\u001b[0m\u001b[1;33m)\u001b[0m\u001b[1;33m\u001b[0m\u001b[1;33m\u001b[0m\u001b[0m\n\u001b[0m\u001b[0;32m    231\u001b[0m     \u001b[1;32mreturn\u001b[0m \u001b[0my\u001b[0m\u001b[1;33m\u001b[0m\u001b[1;33m\u001b[0m\u001b[0m\n\u001b[0;32m    232\u001b[0m \u001b[0md\u001b[0m\u001b[1;33m[\u001b[0m\u001b[0mdict\u001b[0m\u001b[1;33m]\u001b[0m \u001b[1;33m=\u001b[0m \u001b[0m_deepcopy_dict\u001b[0m\u001b[1;33m\u001b[0m\u001b[1;33m\u001b[0m\u001b[0m\n",
      "\u001b[1;32mc:\\Users\\56964\\anaconda3\\lib\\copy.py\u001b[0m in \u001b[0;36mdeepcopy\u001b[1;34m(x, memo, _nil)\u001b[0m\n\u001b[0;32m    144\u001b[0m     \u001b[0mcopier\u001b[0m \u001b[1;33m=\u001b[0m \u001b[0m_deepcopy_dispatch\u001b[0m\u001b[1;33m.\u001b[0m\u001b[0mget\u001b[0m\u001b[1;33m(\u001b[0m\u001b[0mcls\u001b[0m\u001b[1;33m)\u001b[0m\u001b[1;33m\u001b[0m\u001b[1;33m\u001b[0m\u001b[0m\n\u001b[0;32m    145\u001b[0m     \u001b[1;32mif\u001b[0m \u001b[0mcopier\u001b[0m \u001b[1;32mis\u001b[0m \u001b[1;32mnot\u001b[0m \u001b[1;32mNone\u001b[0m\u001b[1;33m:\u001b[0m\u001b[1;33m\u001b[0m\u001b[1;33m\u001b[0m\u001b[0m\n\u001b[1;32m--> 146\u001b[1;33m         \u001b[0my\u001b[0m \u001b[1;33m=\u001b[0m \u001b[0mcopier\u001b[0m\u001b[1;33m(\u001b[0m\u001b[0mx\u001b[0m\u001b[1;33m,\u001b[0m \u001b[0mmemo\u001b[0m\u001b[1;33m)\u001b[0m\u001b[1;33m\u001b[0m\u001b[1;33m\u001b[0m\u001b[0m\n\u001b[0m\u001b[0;32m    147\u001b[0m     \u001b[1;32melse\u001b[0m\u001b[1;33m:\u001b[0m\u001b[1;33m\u001b[0m\u001b[1;33m\u001b[0m\u001b[0m\n\u001b[0;32m    148\u001b[0m         \u001b[1;32mif\u001b[0m \u001b[0missubclass\u001b[0m\u001b[1;33m(\u001b[0m\u001b[0mcls\u001b[0m\u001b[1;33m,\u001b[0m \u001b[0mtype\u001b[0m\u001b[1;33m)\u001b[0m\u001b[1;33m:\u001b[0m\u001b[1;33m\u001b[0m\u001b[1;33m\u001b[0m\u001b[0m\n",
      "\u001b[1;32mc:\\Users\\56964\\anaconda3\\lib\\copy.py\u001b[0m in \u001b[0;36m_deepcopy_list\u001b[1;34m(x, memo, deepcopy)\u001b[0m\n\u001b[0;32m    203\u001b[0m     \u001b[0mappend\u001b[0m \u001b[1;33m=\u001b[0m \u001b[0my\u001b[0m\u001b[1;33m.\u001b[0m\u001b[0mappend\u001b[0m\u001b[1;33m\u001b[0m\u001b[1;33m\u001b[0m\u001b[0m\n\u001b[0;32m    204\u001b[0m     \u001b[1;32mfor\u001b[0m \u001b[0ma\u001b[0m \u001b[1;32min\u001b[0m \u001b[0mx\u001b[0m\u001b[1;33m:\u001b[0m\u001b[1;33m\u001b[0m\u001b[1;33m\u001b[0m\u001b[0m\n\u001b[1;32m--> 205\u001b[1;33m         \u001b[0mappend\u001b[0m\u001b[1;33m(\u001b[0m\u001b[0mdeepcopy\u001b[0m\u001b[1;33m(\u001b[0m\u001b[0ma\u001b[0m\u001b[1;33m,\u001b[0m \u001b[0mmemo\u001b[0m\u001b[1;33m)\u001b[0m\u001b[1;33m)\u001b[0m\u001b[1;33m\u001b[0m\u001b[1;33m\u001b[0m\u001b[0m\n\u001b[0m\u001b[0;32m    206\u001b[0m     \u001b[1;32mreturn\u001b[0m \u001b[0my\u001b[0m\u001b[1;33m\u001b[0m\u001b[1;33m\u001b[0m\u001b[0m\n\u001b[0;32m    207\u001b[0m \u001b[0md\u001b[0m\u001b[1;33m[\u001b[0m\u001b[0mlist\u001b[0m\u001b[1;33m]\u001b[0m \u001b[1;33m=\u001b[0m \u001b[0m_deepcopy_list\u001b[0m\u001b[1;33m\u001b[0m\u001b[1;33m\u001b[0m\u001b[0m\n",
      "\u001b[1;32mc:\\Users\\56964\\anaconda3\\lib\\copy.py\u001b[0m in \u001b[0;36mdeepcopy\u001b[1;34m(x, memo, _nil)\u001b[0m\n\u001b[0;32m    170\u001b[0m                     \u001b[0my\u001b[0m \u001b[1;33m=\u001b[0m \u001b[0mx\u001b[0m\u001b[1;33m\u001b[0m\u001b[1;33m\u001b[0m\u001b[0m\n\u001b[0;32m    171\u001b[0m                 \u001b[1;32melse\u001b[0m\u001b[1;33m:\u001b[0m\u001b[1;33m\u001b[0m\u001b[1;33m\u001b[0m\u001b[0m\n\u001b[1;32m--> 172\u001b[1;33m                     \u001b[0my\u001b[0m \u001b[1;33m=\u001b[0m \u001b[0m_reconstruct\u001b[0m\u001b[1;33m(\u001b[0m\u001b[0mx\u001b[0m\u001b[1;33m,\u001b[0m \u001b[0mmemo\u001b[0m\u001b[1;33m,\u001b[0m \u001b[1;33m*\u001b[0m\u001b[0mrv\u001b[0m\u001b[1;33m)\u001b[0m\u001b[1;33m\u001b[0m\u001b[1;33m\u001b[0m\u001b[0m\n\u001b[0m\u001b[0;32m    173\u001b[0m \u001b[1;33m\u001b[0m\u001b[0m\n\u001b[0;32m    174\u001b[0m     \u001b[1;31m# If is its own copy, don't memoize.\u001b[0m\u001b[1;33m\u001b[0m\u001b[1;33m\u001b[0m\u001b[0m\n",
      "\u001b[1;32mc:\\Users\\56964\\anaconda3\\lib\\copy.py\u001b[0m in \u001b[0;36m_reconstruct\u001b[1;34m(x, memo, func, args, state, listiter, dictiter, deepcopy)\u001b[0m\n\u001b[0;32m    268\u001b[0m     \u001b[1;32mif\u001b[0m \u001b[0mstate\u001b[0m \u001b[1;32mis\u001b[0m \u001b[1;32mnot\u001b[0m \u001b[1;32mNone\u001b[0m\u001b[1;33m:\u001b[0m\u001b[1;33m\u001b[0m\u001b[1;33m\u001b[0m\u001b[0m\n\u001b[0;32m    269\u001b[0m         \u001b[1;32mif\u001b[0m \u001b[0mdeep\u001b[0m\u001b[1;33m:\u001b[0m\u001b[1;33m\u001b[0m\u001b[1;33m\u001b[0m\u001b[0m\n\u001b[1;32m--> 270\u001b[1;33m             \u001b[0mstate\u001b[0m \u001b[1;33m=\u001b[0m \u001b[0mdeepcopy\u001b[0m\u001b[1;33m(\u001b[0m\u001b[0mstate\u001b[0m\u001b[1;33m,\u001b[0m \u001b[0mmemo\u001b[0m\u001b[1;33m)\u001b[0m\u001b[1;33m\u001b[0m\u001b[1;33m\u001b[0m\u001b[0m\n\u001b[0m\u001b[0;32m    271\u001b[0m         \u001b[1;32mif\u001b[0m \u001b[0mhasattr\u001b[0m\u001b[1;33m(\u001b[0m\u001b[0my\u001b[0m\u001b[1;33m,\u001b[0m \u001b[1;34m'__setstate__'\u001b[0m\u001b[1;33m)\u001b[0m\u001b[1;33m:\u001b[0m\u001b[1;33m\u001b[0m\u001b[1;33m\u001b[0m\u001b[0m\n\u001b[0;32m    272\u001b[0m             \u001b[0my\u001b[0m\u001b[1;33m.\u001b[0m\u001b[0m__setstate__\u001b[0m\u001b[1;33m(\u001b[0m\u001b[0mstate\u001b[0m\u001b[1;33m)\u001b[0m\u001b[1;33m\u001b[0m\u001b[1;33m\u001b[0m\u001b[0m\n",
      "\u001b[1;32mc:\\Users\\56964\\anaconda3\\lib\\copy.py\u001b[0m in \u001b[0;36mdeepcopy\u001b[1;34m(x, memo, _nil)\u001b[0m\n\u001b[0;32m    144\u001b[0m     \u001b[0mcopier\u001b[0m \u001b[1;33m=\u001b[0m \u001b[0m_deepcopy_dispatch\u001b[0m\u001b[1;33m.\u001b[0m\u001b[0mget\u001b[0m\u001b[1;33m(\u001b[0m\u001b[0mcls\u001b[0m\u001b[1;33m)\u001b[0m\u001b[1;33m\u001b[0m\u001b[1;33m\u001b[0m\u001b[0m\n\u001b[0;32m    145\u001b[0m     \u001b[1;32mif\u001b[0m \u001b[0mcopier\u001b[0m \u001b[1;32mis\u001b[0m \u001b[1;32mnot\u001b[0m \u001b[1;32mNone\u001b[0m\u001b[1;33m:\u001b[0m\u001b[1;33m\u001b[0m\u001b[1;33m\u001b[0m\u001b[0m\n\u001b[1;32m--> 146\u001b[1;33m         \u001b[0my\u001b[0m \u001b[1;33m=\u001b[0m \u001b[0mcopier\u001b[0m\u001b[1;33m(\u001b[0m\u001b[0mx\u001b[0m\u001b[1;33m,\u001b[0m \u001b[0mmemo\u001b[0m\u001b[1;33m)\u001b[0m\u001b[1;33m\u001b[0m\u001b[1;33m\u001b[0m\u001b[0m\n\u001b[0m\u001b[0;32m    147\u001b[0m     \u001b[1;32melse\u001b[0m\u001b[1;33m:\u001b[0m\u001b[1;33m\u001b[0m\u001b[1;33m\u001b[0m\u001b[0m\n\u001b[0;32m    148\u001b[0m         \u001b[1;32mif\u001b[0m \u001b[0missubclass\u001b[0m\u001b[1;33m(\u001b[0m\u001b[0mcls\u001b[0m\u001b[1;33m,\u001b[0m \u001b[0mtype\u001b[0m\u001b[1;33m)\u001b[0m\u001b[1;33m:\u001b[0m\u001b[1;33m\u001b[0m\u001b[1;33m\u001b[0m\u001b[0m\n",
      "\u001b[1;32mc:\\Users\\56964\\anaconda3\\lib\\copy.py\u001b[0m in \u001b[0;36m_deepcopy_dict\u001b[1;34m(x, memo, deepcopy)\u001b[0m\n\u001b[0;32m    228\u001b[0m     \u001b[0mmemo\u001b[0m\u001b[1;33m[\u001b[0m\u001b[0mid\u001b[0m\u001b[1;33m(\u001b[0m\u001b[0mx\u001b[0m\u001b[1;33m)\u001b[0m\u001b[1;33m]\u001b[0m \u001b[1;33m=\u001b[0m \u001b[0my\u001b[0m\u001b[1;33m\u001b[0m\u001b[1;33m\u001b[0m\u001b[0m\n\u001b[0;32m    229\u001b[0m     \u001b[1;32mfor\u001b[0m \u001b[0mkey\u001b[0m\u001b[1;33m,\u001b[0m \u001b[0mvalue\u001b[0m \u001b[1;32min\u001b[0m \u001b[0mx\u001b[0m\u001b[1;33m.\u001b[0m\u001b[0mitems\u001b[0m\u001b[1;33m(\u001b[0m\u001b[1;33m)\u001b[0m\u001b[1;33m:\u001b[0m\u001b[1;33m\u001b[0m\u001b[1;33m\u001b[0m\u001b[0m\n\u001b[1;32m--> 230\u001b[1;33m         \u001b[0my\u001b[0m\u001b[1;33m[\u001b[0m\u001b[0mdeepcopy\u001b[0m\u001b[1;33m(\u001b[0m\u001b[0mkey\u001b[0m\u001b[1;33m,\u001b[0m \u001b[0mmemo\u001b[0m\u001b[1;33m)\u001b[0m\u001b[1;33m]\u001b[0m \u001b[1;33m=\u001b[0m \u001b[0mdeepcopy\u001b[0m\u001b[1;33m(\u001b[0m\u001b[0mvalue\u001b[0m\u001b[1;33m,\u001b[0m \u001b[0mmemo\u001b[0m\u001b[1;33m)\u001b[0m\u001b[1;33m\u001b[0m\u001b[1;33m\u001b[0m\u001b[0m\n\u001b[0m\u001b[0;32m    231\u001b[0m     \u001b[1;32mreturn\u001b[0m \u001b[0my\u001b[0m\u001b[1;33m\u001b[0m\u001b[1;33m\u001b[0m\u001b[0m\n\u001b[0;32m    232\u001b[0m \u001b[0md\u001b[0m\u001b[1;33m[\u001b[0m\u001b[0mdict\u001b[0m\u001b[1;33m]\u001b[0m \u001b[1;33m=\u001b[0m \u001b[0m_deepcopy_dict\u001b[0m\u001b[1;33m\u001b[0m\u001b[1;33m\u001b[0m\u001b[0m\n",
      "\u001b[1;32mc:\\Users\\56964\\anaconda3\\lib\\copy.py\u001b[0m in \u001b[0;36mdeepcopy\u001b[1;34m(x, memo, _nil)\u001b[0m\n\u001b[0;32m    126\u001b[0m \u001b[1;32mdel\u001b[0m \u001b[0md\u001b[0m\u001b[1;33m,\u001b[0m \u001b[0mt\u001b[0m\u001b[1;33m\u001b[0m\u001b[1;33m\u001b[0m\u001b[0m\n\u001b[0;32m    127\u001b[0m \u001b[1;33m\u001b[0m\u001b[0m\n\u001b[1;32m--> 128\u001b[1;33m \u001b[1;32mdef\u001b[0m \u001b[0mdeepcopy\u001b[0m\u001b[1;33m(\u001b[0m\u001b[0mx\u001b[0m\u001b[1;33m,\u001b[0m \u001b[0mmemo\u001b[0m\u001b[1;33m=\u001b[0m\u001b[1;32mNone\u001b[0m\u001b[1;33m,\u001b[0m \u001b[0m_nil\u001b[0m\u001b[1;33m=\u001b[0m\u001b[1;33m[\u001b[0m\u001b[1;33m]\u001b[0m\u001b[1;33m)\u001b[0m\u001b[1;33m:\u001b[0m\u001b[1;33m\u001b[0m\u001b[1;33m\u001b[0m\u001b[0m\n\u001b[0m\u001b[0;32m    129\u001b[0m     \"\"\"Deep copy operation on arbitrary Python objects.\n\u001b[0;32m    130\u001b[0m \u001b[1;33m\u001b[0m\u001b[0m\n",
      "\u001b[1;31mKeyboardInterrupt\u001b[0m: "
     ]
    }
   ],
   "source": [
    "hiper = HiperHeuristica(instancia= instance, V= 0.05, low_levels= low_levels)\n",
    "\n",
    "hiper.implementar()"
   ]
  },
  {
   "cell_type": "code",
   "execution_count": null,
   "id": "6c9fcc4e",
   "metadata": {},
   "outputs": [],
   "source": [
    "hiper.P"
   ]
  },
  {
   "cell_type": "code",
   "execution_count": null,
   "id": "d590b30b",
   "metadata": {},
   "outputs": [],
   "source": [
    "epocs = 100000 # número de veces que ?\n",
    "solucion_inicial_2 = instance.constructora2()\n",
    "\n",
    "V = 0.05\n",
    "\n",
    "n = len(low_levels)\n",
    "\n",
    "h = 10\n",
    "\n",
    "P = np.ones((n, n))\n",
    "T = np.zeros((n, n))\n",
    "\n",
    "Q = np.ones((n, 2))\n",
    "S = np.zeros((n, 2))\n",
    "\n",
    "# inicializamos la matriz T_ij con P_ij / sum_{k in low_levels} P_ik\n",
    "for i in range(n):\n",
    "    suma_P = sum(P[i])\n",
    "    suma_Q = sum(Q[i])\n",
    "    T[i] = P[i] / suma_P\n",
    "    S[i] = Q[i] / suma_Q\n",
    "\n",
    "solucion_inicial = solucion_inicial_2 #Se comienza con una solución inicial s^c\n",
    "mejor_solucion = solucion_inicial_2 #Se comienza con una mejor solución s*\n",
    "\n",
    "secuencia = [] #Se inicia una secuencia vacía\n",
    "matriz_secuencias = []\n",
    "\n",
    "i_last = random.choice(low_levels)\n",
    "\n",
    "sum_epocs = 0\n",
    "\n",
    "soluciones_factibles = []\n",
    "costo_inicial = solucion_inicial.objective_value - solucion_inicial.costo_infactible()\n",
    "costo_mejor_solucion = mejor_solucion.objective_value - mejor_solucion.costo_infactible()\n",
    "\n",
    "print(mejor_solucion.objective_value)\n",
    "for count in range(epocs):\n",
    "    id_i_next = seleccionar_segun_probabilidad(T[i_last.id-1]) #Setea la siguiente low_level\n",
    "    i_next = low_levels[id_i_next]\n",
    "    secuencia.append(id_i_next) #Agrega la siguiente low level a la lista\n",
    "    u_next = random.choices([0,1], weights=S[i_next.id-1], k=1)[0] #Entrega u = 0 o 1 con probabilidad S_{i_next, u}\n",
    "    \n",
    "    if u_next == 1:\n",
    "        solucion_temporal = i_next.implementacion(solucion_inicial) #Implementamos la low-level siguiente\n",
    "        costo_temporal = solucion_temporal.objective_value - solucion_temporal.costo_infactible()\n",
    "        \n",
    "        if mejor_solucion.is_factible: #Calculo de threshold según factibilidad de mejor solución\n",
    "            rho = 10**-5 + V*(1-len(secuencia)/epocs)\n",
    "        else:\n",
    "            rho = 10**-3\n",
    "        \n",
    "        if costo_temporal > costo_inicial or costo_temporal > (1+rho)*costo_mejor_solucion: #Condición para considerar la solución temporal como inicial\n",
    "            solucion_inicial = solucion_temporal\n",
    "            costo_inicial = costo_temporal\n",
    "            \n",
    "        if costo_temporal>costo_mejor_solucion: #Condición para considerar la solución temporal como mejor solución\n",
    "            mejor_solucion = solucion_temporal\n",
    "            costo_mejor_solucion = costo_temporal\n",
    "            if mejor_solucion.is_factible:\n",
    "                soluciones_factibles.append(mejor_solucion)\n",
    "             #Actualizar la matriz P y S CREAR MÉTODO PARA ACTUALIZAR LAS MATRICES\n",
    "            Q[secuencia[-1], 1] =  Q[secuencia[-1], 1] + 1\n",
    "            for i in range(len(secuencia)-1):\n",
    "                i_k = secuencia[i]\n",
    "                i_k_1 = secuencia[i+1]\n",
    "                P[i_k, i_k_1] = P[i_k, i_k_1]+1\n",
    "                Q[i_k, 0] = Q[i_k, 0]+1\n",
    "                for i in range(n):\n",
    "                    suma_P = sum(P[i])\n",
    "                    suma_Q = sum(Q[i])\n",
    "                    T[i] = P[i] / suma_P\n",
    "                    S[i] = Q[i] / suma_Q\n",
    "        print(f\"epoc: {count}, secuencia = {secuencia}, s_t = {solucion_temporal.objective_value} {solucion_temporal.is_factible}, s_c = {solucion_inicial.objective_value} {solucion_inicial.is_factible}, s* = {mejor_solucion.objective_value} {mejor_solucion.is_factible}\")\n",
    "        secuencia = []\n",
    "    i_last = i_next\n",
    "    \n",
    "print(mejor_solucion)\n",
    "        "
   ]
  },
  {
   "cell_type": "code",
   "execution_count": null,
   "id": "57f20849",
   "metadata": {},
   "outputs": [],
   "source": [
    "epocs = 100000\n",
    "solucion_inicial_2 = instance.constructora2()\n",
    "\n",
    "V = 0.5\n",
    "\n",
    "n = len(low_levels)\n",
    "\n",
    "h = 10\n",
    "\n",
    "P = np.ones((n, n))\n",
    "T = np.zeros((n, n))\n",
    "\n",
    "Q = np.ones((n, 2))\n",
    "S = np.zeros((n, 2))\n",
    "\n",
    "# inicializamos la matriz T_ij con P_ij / sum_{k in low_levels} P_ik\n",
    "for i in range(n):\n",
    "    suma_P = sum(P[i])\n",
    "    suma_Q = sum(Q[i])\n",
    "    T[i] = P[i] / suma_P\n",
    "    S[i] = Q[i] / suma_Q\n",
    "\n",
    "solucion_inicial = solucion_inicial_2 #Se comienza con una solución inicial s^c\n",
    "mejor_solucion = solucion_inicial_2 #Se comienza con una mejor solución s*\n",
    "\n",
    "secuencia = [] #Se inicia una secuencia vacía\n",
    "matriz_secuencias = []\n",
    "\n",
    "i_last = random.choice(low_levels)\n",
    "\n",
    "sum_epocs = 0\n",
    "\n",
    "soluciones_factibles = []\n",
    "costo_inicial = solucion_inicial.objective_value - solucion_inicial.costo_infactible()\n",
    "costo_mejor_solucion = mejor_solucion.objective_value - mejor_solucion.costo_infactible()\n",
    "\n",
    "print(mejor_solucion.objective_value)\n",
    "for count in range(epocs):\n",
    "    id_i_next = seleccionar_segun_probabilidad(T[i_last.id-1]) #Setea la siguiente low_level\n",
    "    i_next = low_levels[id_i_next]\n",
    "    secuencia.append(id_i_next) #Agrega la siguiente low level a la lista\n",
    "    u_next = random.choices([0,1], weights=S[i_next.id-1], k=1)[0] #Entrega u = 0 o 1 con probabilidad S_{i_next, u}\n",
    "    \n",
    "    if u_next == 1:\n",
    "        solucion_temporal = i_next.implementacion(solucion_inicial) #Implementamos la low-level siguiente\n",
    "        costo_temporal = solucion_temporal.objective_value - solucion_temporal.costo_infactible()\n",
    "        \n",
    "        if mejor_solucion.is_factible: #Calculo de threshold según factibilidad de mejor solución\n",
    "            rho = 10**-5 + V*(1-len(secuencia)/epocs)\n",
    "        else:\n",
    "            rho = 10**-3\n",
    "            \n",
    "        #Castigamos el freno si me da infactible\n",
    "        if not solucion_temporal.is_factible:\n",
    "            Q[secuencia[-1],1] = 0.7*Q[secuencia[-1],1]\n",
    "            S[secuencia[-1]] = Q[secuencia[-1]]/sum(Q[secuencia[-1]])\n",
    "        \n",
    "        if costo_temporal > costo_inicial: #Condición para considerar la solución temporal como inicial\n",
    "            solucion_inicial = solucion_temporal\n",
    "            costo_inicial = costo_temporal\n",
    "            \n",
    "        if costo_temporal > (1+rho)*costo_mejor_solucion: #Condición para considerar la solución temporal como mejor solución\n",
    "            mejor_solucion = solucion_temporal\n",
    "            costo_mejor_solucion = costo_temporal\n",
    "            if mejor_solucion.is_factible:\n",
    "                soluciones_factibles.append(mejor_solucion)\n",
    "             #Actualizar la matriz P y S\n",
    "            Q[secuencia[-1], 1] =  Q[secuencia[-1], 1] + 1\n",
    "            for i in range(len(secuencia)-1):\n",
    "                i_k = secuencia[i]\n",
    "                i_k_1 = secuencia[i+1]\n",
    "                P[i_k, i_k_1] = P[i_k, i_k_1]+1\n",
    "                Q[i_k, 0] = Q[i_k, 0]+1\n",
    "                for i in range(n):\n",
    "                    suma_P = sum(P[i])\n",
    "                    suma_Q = sum(Q[i])\n",
    "                    T[i] = P[i] / suma_P\n",
    "                    S[i] = Q[i] / suma_Q\n",
    "        print(f\"epoc: {count}, secuencia = {secuencia}, s_t = {solucion_temporal.objective_value} {solucion_temporal.is_factible}, s_c = {solucion_inicial.objective_value} {solucion_inicial.is_factible}, s* = {mejor_solucion.objective_value} {mejor_solucion.is_factible}\")\n",
    "        secuencia = []\n",
    "    i_last = i_next\n",
    "    \n",
    "print(mejor_solucion)\n",
    "        "
   ]
  },
  {
   "cell_type": "code",
   "execution_count": null,
   "id": "e8d423c4",
   "metadata": {},
   "outputs": [],
   "source": [
    "mejor_solucion = None\n",
    "best_value = 0\n",
    "epocs = 10000\n",
    "\n",
    "solucion_inicial_1 = instance.constructora1()\n",
    "solucion_inicial_2 = instance.constructora2()\n",
    "P_ij = np.ones((len(low_levels), len(low_levels)))\n",
    "T_ij = np.zeros((len(low_levels), len(low_levels)))\n",
    "\n",
    "\n",
    "# inicializamos la matriz T_ij con P_ij / sum_{k in low_levels} P_ik\n",
    "for i in range(len(low_levels)):\n",
    "    suma_P_ik = sum(P_ij[i])\n",
    "    for j in range(len(low_levels)):\n",
    "        T_ij[i][j] = P_ij[i][j] / suma_P_ik if suma_P_ik > 0 else 0\n",
    "print(T_ij)\n",
    "\n",
    "matriz_secuencias = []\n",
    "for _ in range(epocs):\n",
    "    solucion = random.choice([solucion_inicial_2])\n",
    "    mejor_solucion_temporal = solucion\n",
    "    best_value_temporal = solucion.objective_value\n",
    "    low_level_inicial = None\n",
    "    secuencia = []\n",
    "\n",
    "    while True:\n",
    "        # si no hay una low level inicial, se elige una al azar\n",
    "        if low_level_inicial is None:\n",
    "            low_level_elegida = random.choice(low_levels)\n",
    "            id_eleccion = low_level_elegida.id\n",
    "        else:\n",
    "            probabilidades_siguiente_low_level = T_ij[low_level_inicial.id - 1,:]\n",
    "            id_eleccion = seleccionar_segun_probabilidad(probabilidades_siguiente_low_level)\n",
    "            low_level_elegida = low_levels[id_eleccion]\n",
    "\n",
    "        secuencia.append(id_eleccion)\n",
    "\n",
    " \n",
    "        solucion_nueva = low_level_elegida.implementacion(solucion)\n",
    "\n",
    "        if solucion_nueva.is_factible == False: #or solucion_nueva.objective_value <= solucion.objective_value:\n",
    "            break\n",
    "\n",
    "        if low_level_inicial is None:\n",
    "            pass\n",
    "        else:\n",
    "            if solucion_nueva.objective_value > best_value_temporal:\n",
    "                mejor_solucion_temporal = solucion_nueva\n",
    "                best_value_temporal = solucion_nueva.objective_value\n",
    "                P_ij[low_level_inicial.id - 1][low_level_elegida.id - 1] += 1\n",
    "\n",
    "        if low_level_inicial is None:\n",
    "            id_low_level_inicial = low_level_elegida.id\n",
    "           # la matriz T_ij se actualiza con el valor de P_ij/ sum_{k in low_levels} P_ik\n",
    "            suma_P_ik = sum(P_ij[id_low_level_inicial - 1])\n",
    "            for low_level in low_levels:\n",
    "                low_level_id = low_level.id\n",
    "                T_ij[id_low_level_inicial - 1][low_level_id - 1] = P_ij[id_low_level_inicial - 1][low_level_id - 1] / suma_P_ik if suma_P_ik > 0 else 0\n",
    "            \n",
    "        low_level_inicial = low_level_elegida\n",
    "        solucion = solucion_nueva\n",
    "    \n",
    "    if best_value_temporal > best_value:\n",
    "        mejor_solucion = solucion\n",
    "        best_value = best_value_temporal\n",
    "        print(f\"Nueva mejor solucion encontrada:, Con mejor valor{best_value}, secuencia: {secuencia}\")\n",
    "    matriz_secuencias.append(secuencia)\n",
    "\n",
    "    #print(T_ij)\n",
    "\n",
    "print(\"Mejor solucion final:\", mejor_solucion)"
   ]
  },
  {
   "cell_type": "code",
   "execution_count": null,
   "id": "74bd15b4",
   "metadata": {},
   "outputs": [],
   "source": [
    "mejor_solucion.is_factible"
   ]
  },
  {
   "cell_type": "code",
   "execution_count": null,
   "id": "bcd6e0f0",
   "metadata": {},
   "outputs": [],
   "source": [
    "1/soluciones_factibles[0].objective_value+h*soluciones_factibles[0].costo_infactible()"
   ]
  },
  {
   "cell_type": "code",
   "execution_count": null,
   "id": "81378163",
   "metadata": {},
   "outputs": [],
   "source": [
    "1/soluciones_factibles[-1].objective_value+h*soluciones_factibles[-1].costo_infactible()"
   ]
  },
  {
   "cell_type": "code",
   "execution_count": null,
   "id": "b92eaf7b",
   "metadata": {},
   "outputs": [],
   "source": [
    "1/mejor_solucion.objective_value + h*mejor_solucion.costo_infactible()"
   ]
  },
  {
   "cell_type": "code",
   "execution_count": null,
   "id": "994c92d8",
   "metadata": {},
   "outputs": [],
   "source": [
    "1/mejor_solucion.objective_value + h*mejor_solucion.costo_infactible()"
   ]
  },
  {
   "cell_type": "code",
   "execution_count": null,
   "id": "7b321cfa",
   "metadata": {},
   "outputs": [],
   "source": [
    "matriz = np.zeros((3,3))\n",
    "# ahora rellenamos la matriz con unos\n",
    "\n",
    "\n",
    "for i in range(matriz.shape[0]):\n",
    "    for j in range(matriz.shape[1]):\n",
    "        matriz[i][j] = 1\n",
    "\n",
    "print(matriz)\n",
    "\n",
    "print(\"###########\")\n",
    "\n",
    "print(matriz[0,:])\n",
    "print(\"###########\")\n",
    "\n",
    "print(sum(matriz[0]))\n"
   ]
  },
  {
   "cell_type": "code",
   "execution_count": null,
   "id": "e8ad23bf",
   "metadata": {},
   "outputs": [],
   "source": []
  }
 ],
 "metadata": {
  "kernelspec": {
   "display_name": "base",
   "language": "python",
   "name": "python3"
  },
  "language_info": {
   "codemirror_mode": {
    "name": "ipython",
    "version": 3
   },
   "file_extension": ".py",
   "mimetype": "text/x-python",
   "name": "python",
   "nbconvert_exporter": "python",
   "pygments_lexer": "ipython3",
   "version": "3.9.13"
  }
 },
 "nbformat": 4,
 "nbformat_minor": 5
}
