{
 "cells": [
  {
   "cell_type": "code",
   "execution_count": 1,
   "id": "ebbfa635",
   "metadata": {},
   "outputs": [],
   "source": [
    "from instance_reader import read_instance\n",
    "import random\n",
    "from Solucion import Solucion\n",
    "from funciones_auxiliares import seleccionar_segun_probabilidad\n",
    "from Low_levels import *\n",
    "from Hiperheuristica import HiperHeuristica"
   ]
  },
  {
   "cell_type": "code",
   "execution_count": 8,
   "id": "618f2af6",
   "metadata": {},
   "outputs": [
    {
     "name": "stdout",
     "output_type": "stream",
     "text": [
      "Conteo = 1, s_t = 0.00 False, s_c = 0.00 False, s* = 0.00 False, secuencia = [9, 10]\n",
      "Conteo = 2, s_t = 0.00 False, s_c = 0.00 False, s* = 0.00 False, secuencia = [9]\n",
      "Conteo = 6, s_t = 0.00 False, s_c = 0.00 False, s* = 0.00 False, secuencia = [13, 6, 7, 11]\n",
      "Conteo = 7, s_t = 0.00 False, s_c = 0.00 False, s* = 0.00 False, secuencia = [0]\n",
      "Conteo = 8, s_t = 0.00 False, s_c = 0.00 False, s* = 0.00 False, secuencia = [9]\n",
      "Conteo = 10, s_t = 0.00 False, s_c = 0.00 False, s* = 0.00 False, secuencia = [2, 3]\n",
      "Conteo = 11, s_t = 0.00 False, s_c = 0.00 False, s* = 0.00 False, secuencia = [3]\n",
      "Conteo = 13, s_t = 0.10 False, s_c = 0.10 False, s* = 0.10 False, secuencia = [8, 10]\n",
      "Conteo = 15, s_t = 16.00 False, s_c = 0.10 False, s* = 0.10 False, secuencia = [12, 12]\n",
      "Conteo = 16, s_t = 0.10 False, s_c = 0.10 False, s* = 0.10 False, secuencia = [10]\n",
      "Conteo = 17, s_t = 0.10 False, s_c = 0.10 False, s* = 0.10 False, secuencia = [6]\n"
     ]
    },
    {
     "ename": "KeyboardInterrupt",
     "evalue": "",
     "output_type": "error",
     "traceback": [
      "\u001b[31m---------------------------------------------------------------------------\u001b[39m",
      "\u001b[31mKeyboardInterrupt\u001b[39m                         Traceback (most recent call last)",
      "\u001b[36mCell\u001b[39m\u001b[36m \u001b[39m\u001b[32mIn[8]\u001b[39m\u001b[32m, line 47\u001b[39m\n\u001b[32m     43\u001b[39m solucion = Solucion(selected_orders= [], selected_runners = [], instance= instance)\n\u001b[32m     46\u001b[39m hiperHeuristica = HiperHeuristica( instancia= instance, V = \u001b[32m0.04\u001b[39m, low_levels= low_levels, solucion= solucion, tiempo = \u001b[32m580\u001b[39m)\n\u001b[32m---> \u001b[39m\u001b[32m47\u001b[39m \u001b[43mhiperHeuristica\u001b[49m\u001b[43m.\u001b[49m\u001b[43mimplementar\u001b[49m\u001b[43m(\u001b[49m\u001b[43m)\u001b[49m\n\u001b[32m     49\u001b[39m \u001b[38;5;28mprint\u001b[39m(hiperHeuristica.mejor_sol)\n",
      "\u001b[36mFile \u001b[39m\u001b[32mc:\\Users\\MF-Ma\\OneDrive - Universidad Adolfo Ibanez\\Industrial\\Magister\\Desafio Mercado Libre\\MLivre-Itu_y_Sof-a_sin_guagua\\Codigo\\Hiperheuristica.py:67\u001b[39m, in \u001b[36mHiperHeuristica.implementar\u001b[39m\u001b[34m(self)\u001b[39m\n\u001b[32m     65\u001b[39m \u001b[38;5;28;01mfor\u001b[39;00m \u001b[38;5;28mid\u001b[39m \u001b[38;5;129;01min\u001b[39;00m secuencia:\n\u001b[32m     66\u001b[39m     low_level = \u001b[38;5;28mself\u001b[39m.low_levels[\u001b[38;5;28mid\u001b[39m]\n\u001b[32m---> \u001b[39m\u001b[32m67\u001b[39m     sol_temporal = \u001b[43mlow_level\u001b[49m\u001b[43m.\u001b[49m\u001b[43mimplementacion\u001b[49m\u001b[43m(\u001b[49m\u001b[43msol_temporal\u001b[49m\u001b[43m)\u001b[49m\n\u001b[32m     69\u001b[39m \u001b[38;5;66;03m# cambiaré esto\u001b[39;00m\n\u001b[32m     70\u001b[39m \u001b[38;5;66;03m#if sol_temporal.is_factible == False:\u001b[39;00m\n\u001b[32m     71\u001b[39m  \u001b[38;5;66;03m#   sol_temporal = LL_r.implementacion(sol_temporal)\u001b[39;00m\n\u001b[32m     73\u001b[39m \u001b[38;5;28;01mif\u001b[39;00m  \u001b[38;5;28mself\u001b[39m.condicion_1(sol_temporal, \u001b[38;5;28mself\u001b[39m.candidata) \u001b[38;5;129;01mor\u001b[39;00m \u001b[38;5;28mself\u001b[39m.condicion_2(sol_temporal, \u001b[38;5;28mself\u001b[39m.mejor_sol, tiempo_inicio, \u001b[38;5;28mself\u001b[39m.V):\n",
      "\u001b[36mFile \u001b[39m\u001b[32mc:\\Users\\MF-Ma\\OneDrive - Universidad Adolfo Ibanez\\Industrial\\Magister\\Desafio Mercado Libre\\MLivre-Itu_y_Sof-a_sin_guagua\\Codigo\\Low_levels.py:637\u001b[39m, in \u001b[36mLL_factibilizar_UB.implementacion\u001b[39m\u001b[34m(self, solucion_antigua)\u001b[39m\n\u001b[32m    635\u001b[39m     solucion.selected_orders.remove(orden_a_eliminar)\n\u001b[32m    636\u001b[39m     solucion.id_selected_orders.discard(orden_a_eliminar.index)\n\u001b[32m--> \u001b[39m\u001b[32m637\u001b[39m     \u001b[43msolucion\u001b[49m\u001b[43m.\u001b[49m\u001b[43mactualizar_atributos\u001b[49m\u001b[43m(\u001b[49m\u001b[43m)\u001b[49m\n\u001b[32m    638\u001b[39m \u001b[38;5;28;01mreturn\u001b[39;00m solucion\n",
      "\u001b[36mFile \u001b[39m\u001b[32mc:\\Users\\MF-Ma\\OneDrive - Universidad Adolfo Ibanez\\Industrial\\Magister\\Desafio Mercado Libre\\MLivre-Itu_y_Sof-a_sin_guagua\\Codigo\\Solucion.py:43\u001b[39m, in \u001b[36mSolucion.actualizar_atributos\u001b[39m\u001b[34m(self)\u001b[39m\n\u001b[32m     41\u001b[39m \u001b[38;5;28mself\u001b[39m.id_selected_orders = \u001b[38;5;28mset\u001b[39m(order.index \u001b[38;5;28;01mfor\u001b[39;00m order \u001b[38;5;129;01min\u001b[39;00m \u001b[38;5;28mself\u001b[39m.selected_orders)\n\u001b[32m     42\u001b[39m \u001b[38;5;28mself\u001b[39m.id_selected_runners = \u001b[38;5;28mset\u001b[39m(runner.index \u001b[38;5;28;01mfor\u001b[39;00m runner \u001b[38;5;129;01min\u001b[39;00m \u001b[38;5;28mself\u001b[39m.selected_runners)\n\u001b[32m---> \u001b[39m\u001b[32m43\u001b[39m \u001b[38;5;28mself\u001b[39m.is_factible = \u001b[38;5;28;43mself\u001b[39;49m\u001b[43m.\u001b[49m\u001b[43mset_is_factible\u001b[49m\u001b[43m(\u001b[49m\u001b[43m)\u001b[49m\n",
      "\u001b[36mFile \u001b[39m\u001b[32mc:\\Users\\MF-Ma\\OneDrive - Universidad Adolfo Ibanez\\Industrial\\Magister\\Desafio Mercado Libre\\MLivre-Itu_y_Sof-a_sin_guagua\\Codigo\\Solucion.py:79\u001b[39m, in \u001b[36mSolucion.set_is_factible\u001b[39m\u001b[34m(self)\u001b[39m\n\u001b[32m     77\u001b[39m \u001b[38;5;28;01mfor\u001b[39;00m runner \u001b[38;5;129;01min\u001b[39;00m \u001b[38;5;28mself\u001b[39m.selected_runners:\n\u001b[32m     78\u001b[39m     \u001b[38;5;28;01mfor\u001b[39;00m item, quantity \u001b[38;5;129;01min\u001b[39;00m runner.stock.items():\n\u001b[32m---> \u001b[39m\u001b[32m79\u001b[39m         stock_total[item] += quantity\n\u001b[32m     82\u001b[39m \u001b[38;5;66;03m# verificamos si la solucion respespeta el lb y el ub respecto a los items totales\u001b[39;00m\n\u001b[32m     83\u001b[39m \u001b[38;5;28;01mif\u001b[39;00m \u001b[38;5;28mself\u001b[39m.total_units_orders < \u001b[38;5;28mself\u001b[39m.instance.lb \u001b[38;5;129;01mor\u001b[39;00m \u001b[38;5;28mself\u001b[39m.total_units_orders > \u001b[38;5;28mself\u001b[39m.instance.ub:\n",
      "\u001b[31mKeyboardInterrupt\u001b[39m: "
     ]
    }
   ],
   "source": [
    "if __name__ == \"__main__\":\n",
    "    # comenzamos leyendo una instancia\n",
    "    instance = read_instance(\"datasets/b/instance_0001.txt\") # objeto instancia\n",
    "    n = 0\n",
    "    Ll1= LL_agregacion_ordenes_random( id=n) # o\n",
    "    n +=1\n",
    "    Ll2 = LL_agregacion_pasillos_random(id=n) # o\n",
    "    n +=1\n",
    "    Ll3 = LL_agregacion_pasillos_top(id=n) # o\n",
    "    n +=1\n",
    "    Ll4 = LL_eliminacion_ordenes_random(id=n) # o\n",
    "    n +=1\n",
    "    Ll5 = LL_eliminacion_pasillos_random(id=n) #original\n",
    "    n +=1\n",
    "    Ll6 = LL_eliminacion_pasillos_malos(id= n)\n",
    "    n += 1\n",
    "    #Ll7 = LL_reparacion_factibilidad(id=6) # o \n",
    "    #n +=1\n",
    "    Ll8 = LL_factibilizar_demanda(id=n)\n",
    "    n +=1\n",
    "    Ll9 = LL_factibilizar_UB(id=n)\n",
    "    n +=1\n",
    "    Ll10 = LL_factibilizar_LB(id = n)\n",
    "    n +=1\n",
    "    Ll11 = LL_agregacion_ordenes_chicas(id=n)\n",
    "    n +=1\n",
    "    Ll12 = LL_eliminacion_ordenes_chicas(id = n)\n",
    "    n +=1\n",
    "    Ll13 = LL_eliminacion_ordenes_grandes(id=n)\n",
    "    n +=1\n",
    "    Ll14 = LL_agregacion_pasillo_orden_top(id = n)\n",
    "    n +=1\n",
    "    Ll15 = LL_eliminacion_pasillo_malo(id=n)\n",
    "    n +=1\n",
    "    Ll16 = LL_agregacion_orden_chica(id =n)\n",
    "\n",
    "    low_levels = [Ll1,Ll2,Ll3,Ll4,Ll5,Ll6,Ll8,Ll9,Ll10,Ll11,Ll12,Ll13,Ll15,Ll16]\n",
    "\n",
    "    # elegimos ordenes al azar y pasillos para comenzar\n",
    "    orders = random.sample(instance.orders, round(0.2* len(instance.orders)))\n",
    "    runners = random.sample(instance.runners, len(instance.runners))\n",
    "    # definimos la solucion vacia\n",
    "    solucion = Solucion(selected_orders= [], selected_runners = [], instance= instance)\n",
    "\n",
    "\n",
    "    hiperHeuristica = HiperHeuristica( instancia= instance, V = 0.04, low_levels= low_levels, solucion= solucion, tiempo = 580)\n",
    "    hiperHeuristica.implementar()\n",
    "\n",
    "    print(hiperHeuristica.mejor_sol)\n",
    "\n"
   ]
  },
  {
   "cell_type": "code",
   "execution_count": 3,
   "id": "2bda4bec",
   "metadata": {},
   "outputs": [
    {
     "data": {
      "text/plain": [
       "array([[0.58333333, 0.41666667],\n",
       "       [0.33333333, 0.66666667],\n",
       "       [0.8       , 0.2       ],\n",
       "       [0.5       , 0.5       ],\n",
       "       [0.75      , 0.25      ],\n",
       "       [0.66666667, 0.33333333],\n",
       "       [0.35714286, 0.64285714],\n",
       "       [0.77777778, 0.22222222],\n",
       "       [0.33333333, 0.66666667],\n",
       "       [0.66666667, 0.33333333],\n",
       "       [0.875     , 0.125     ],\n",
       "       [0.5       , 0.5       ],\n",
       "       [0.5       , 0.5       ]])"
      ]
     },
     "execution_count": 3,
     "metadata": {},
     "output_type": "execute_result"
    }
   ],
   "source": [
    "hiperHeuristica.S"
   ]
  },
  {
   "cell_type": "code",
   "execution_count": null,
   "id": "02895858",
   "metadata": {},
   "outputs": [],
   "source": []
  }
 ],
 "metadata": {
  "kernelspec": {
   "display_name": "Python 3",
   "language": "python",
   "name": "python3"
  },
  "language_info": {
   "codemirror_mode": {
    "name": "ipython",
    "version": 3
   },
   "file_extension": ".py",
   "mimetype": "text/x-python",
   "name": "python",
   "nbconvert_exporter": "python",
   "pygments_lexer": "ipython3",
   "version": "3.11.9"
  }
 },
 "nbformat": 4,
 "nbformat_minor": 5
}
