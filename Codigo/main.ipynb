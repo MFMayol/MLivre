{
 "cells": [
  {
   "cell_type": "code",
   "execution_count": 1,
   "id": "ebbfa635",
   "metadata": {},
   "outputs": [],
   "source": [
    "from instance_reader import read_instance\n",
    "from heuristics import greedy_wave_selection\n",
    "import random\n",
    "from Solucion import Solucion\n",
    "from funciones_auxiliares import seleccionar_segun_probabilidad\n",
    "from LL_nuevas import *\n",
    "from Hiperheuristica import HiperHeuristica"
   ]
  },
  {
   "cell_type": "code",
   "execution_count": null,
   "id": "618f2af6",
   "metadata": {},
   "outputs": [
    {
     "name": "stdout",
     "output_type": "stream",
     "text": [
      "Conteo = 1, s_t = 4.36 False, s_c = 18.20 False, s* = 18.20 False, secuencia = [3, 2]\n",
      "Conteo = 2, s_t = 17.53 True, s_c = 17.53 True, s* = 17.53 True, secuencia = [3]\n",
      "Conteo = 6, s_t = 19.37 True, s_c = 19.37 True, s* = 19.37 True, secuencia = [1, 3, 3, 0]\n",
      "Conteo = 7, s_t = 23.53 True, s_c = 23.53 True, s* = 23.53 True, secuencia = [0]\n",
      "Conteo = 12, s_t = 19.46 False, s_c = 23.53 True, s* = 23.53 True, secuencia = [3, 1, 3, 0, 1]\n",
      "Conteo = 19, s_t = 11.37 False, s_c = 23.53 True, s* = 23.53 True, secuencia = [2, 2, 3, 1, 3, 0, 2]\n",
      "Conteo = 21, s_t = 4.47 False, s_c = 23.53 True, s* = 23.53 True, secuencia = [2, 3]\n",
      "Conteo = 22, s_t = 27.43 True, s_c = 27.43 True, s* = 27.43 True, secuencia = [0]\n",
      "Conteo = 25, s_t = 12.23 False, s_c = 27.43 True, s* = 27.43 True, secuencia = [2, 0, 1]\n",
      "Conteo = 30, s_t = 17.48 False, s_c = 27.43 True, s* = 27.43 True, secuencia = [1, 3, 1, 3, 3]\n",
      "Conteo = 32, s_t = 34.45 True, s_c = 34.45 True, s* = 34.45 True, secuencia = [0, 0]\n",
      "Conteo = 33, s_t = 28.52 True, s_c = 34.45 True, s* = 34.45 True, secuencia = [3]\n",
      "Conteo = 34, s_t = 15.00 True, s_c = 34.45 True, s* = 34.45 True, secuencia = [2]\n",
      "Conteo = 41, s_t = 5.39 False, s_c = 34.45 True, s* = 34.45 True, secuencia = [3, 2, 0, 2, 3, 2, 2]\n",
      "Conteo = 42, s_t = 25.43 True, s_c = 34.45 True, s* = 34.45 True, secuencia = [3]\n",
      "Conteo = 43, s_t = 37.14 True, s_c = 37.14 True, s* = 37.14 True, secuencia = [0]\n",
      "Conteo = 44, s_t = 31.70 True, s_c = 37.14 True, s* = 37.14 True, secuencia = [3]\n",
      "Conteo = 46, s_t = 14.88 False, s_c = 37.14 True, s* = 37.14 True, secuencia = [3, 2]\n",
      "Conteo = 47, s_t = 27.50 True, s_c = 37.14 True, s* = 37.14 True, secuencia = [3]\n",
      "Conteo = 53, s_t = 15.45 False, s_c = 37.14 True, s* = 37.14 True, secuencia = [1, 3, 3, 3, 0, 2]\n",
      "Conteo = 55, s_t = 30.53 True, s_c = 37.14 True, s* = 37.14 True, secuencia = [0, 3]\n",
      "Conteo = 58, s_t = 34.94 True, s_c = 37.14 True, s* = 37.14 True, secuencia = [3, 0, 1]\n",
      "Conteo = 60, s_t = 35.00 False, s_c = 37.14 True, s* = 37.14 True, secuencia = [3, 3]\n",
      "Conteo = 61, s_t = 39.11 True, s_c = 39.11 True, s* = 39.11 True, secuencia = [0]\n",
      "Conteo = 62, s_t = 19.12 True, s_c = 39.11 True, s* = 39.11 True, secuencia = [2]\n",
      "Conteo = 64, s_t = 24.27 True, s_c = 39.11 True, s* = 39.11 True, secuencia = [2, 0]\n",
      "Conteo = 66, s_t = 39.72 True, s_c = 39.72 True, s* = 39.72 True, secuencia = [0, 1]\n",
      "Conteo = 67, s_t = 36.96 True, s_c = 39.72 True, s* = 39.72 True, secuencia = [1]\n",
      "Conteo = 68, s_t = 33.85 True, s_c = 39.72 True, s* = 39.72 True, secuencia = [3]\n",
      "Conteo = 72, s_t = 38.86 False, s_c = 39.72 True, s* = 39.72 True, secuencia = [0, 3, 1, 3]\n",
      "Conteo = 73, s_t = 36.96 True, s_c = 39.72 True, s* = 39.72 True, secuencia = [1]\n",
      "Conteo = 75, s_t = 29.09 True, s_c = 39.72 True, s* = 39.72 True, secuencia = [1, 3]\n",
      "Conteo = 77, s_t = 16.15 False, s_c = 39.72 True, s* = 39.72 True, secuencia = [3, 2]\n",
      "Conteo = 78, s_t = 36.96 True, s_c = 39.72 True, s* = 39.72 True, secuencia = [1]\n",
      "Conteo = 79, s_t = 20.77 True, s_c = 39.72 True, s* = 39.72 True, secuencia = [2]\n",
      "Conteo = 81, s_t = 38.02 True, s_c = 39.72 True, s* = 39.72 True, secuencia = [0, 1]\n",
      "Conteo = 83, s_t = 20.10 True, s_c = 39.72 True, s* = 39.72 True, secuencia = [2, 1]\n"
     ]
    }
   ],
   "source": [
    "if __name__ == \"__main__\":\n",
    "    # comenzamos leyendo una instancia\n",
    "    instance = read_instance(\"datasets/a/instance_0005.txt\") # objeto instancia\n",
    "    low_level1= LL_agregacion_ordenes( id=0, nombre=\"1\")\n",
    "    low_level2 = LL_agregacion_pasillos(id=1, nombre=2)\n",
    "    low_level3 = LL_eliminacion_ordenes_random(id=2,nombre=3)\n",
    "    low_level4 = LL_eliminacion_pasillos_random(id=3, nombre=4)\n",
    "    #low_level5 = LL_factibilizadora1(id=4, nombre=4)\n",
    "    #low_level6 = LL_factibilizadora2(id=5, nombre= 5)\n",
    "    #low_level7 = LL_reparacion_factibilidad(id=4, nombre=6)\n",
    "\n",
    "    low_levels = [low_level1,low_level2,low_level3,low_level4] #low_level7]\n",
    "\n",
    "    # elegimos ordenes al azar y pasillos para comenzar\n",
    "    orders = random.sample(instance.orders, round(0.2* len(instance.orders)))\n",
    "    runners = random.sample(instance.runners, len(instance.runners))\n",
    "    # definimos la solucion vacia\n",
    "    solucion = Solucion(selected_orders= orders, selected_runners = runners, instance= instance)\n",
    "\n",
    "\n",
    "    hiperHeuristica = HiperHeuristica( instancia= instance, V = 0.04, low_levels= low_levels, solucion= solucion)\n",
    "    hiperHeuristica.implementar()\n",
    "\n"
   ]
  },
  {
   "cell_type": "code",
   "execution_count": null,
   "id": "2bda4bec",
   "metadata": {},
   "outputs": [],
   "source": []
  }
 ],
 "metadata": {
  "kernelspec": {
   "display_name": "Python 3",
   "language": "python",
   "name": "python3"
  },
  "language_info": {
   "codemirror_mode": {
    "name": "ipython",
    "version": 3
   },
   "file_extension": ".py",
   "mimetype": "text/x-python",
   "name": "python",
   "nbconvert_exporter": "python",
   "pygments_lexer": "ipython3",
   "version": "3.11.9"
  }
 },
 "nbformat": 4,
 "nbformat_minor": 5
}
