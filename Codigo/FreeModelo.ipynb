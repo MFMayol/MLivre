{
 "cells": [
  {
   "cell_type": "code",
   "execution_count": 5,
   "id": "4782a940",
   "metadata": {},
   "outputs": [],
   "source": [
    "import numpy as np\n",
    "import matplotlib.pyplot as plt\n",
    "from gurobipy import Model, GRB, quicksum, GurobiError"
   ]
  },
  {
   "cell_type": "code",
   "execution_count": 11,
   "id": "471fb748",
   "metadata": {},
   "outputs": [
    {
     "name": "stdout",
     "output_type": "stream",
     "text": [
      "Gurobi Optimizer version 12.0.0 build v12.0.0rc1 (win64 - Windows 10.0 (19045.2))\n",
      "\n",
      "CPU model: Intel(R) Core(TM) i7-8500Y CPU @ 1.50GHz, instruction set [SSE2|AVX|AVX2]\n",
      "Thread count: 2 physical cores, 4 logical processors, using up to 4 threads\n",
      "\n",
      "Optimize a model with 6 rows, 10 columns and 35 nonzeros\n",
      "Model fingerprint: 0xbd1fea21\n",
      "Variable types: 0 continuous, 10 integer (10 binary)\n",
      "Coefficient statistics:\n",
      "  Matrix range     [1e+00, 3e+00]\n",
      "  Objective range  [1e+00, 5e+00]\n",
      "  Bounds range     [1e+00, 1e+00]\n",
      "  RHS range        [2e+00, 2e+00]\n",
      "Found heuristic solution: objective 6.0000000\n",
      "Presolve removed 1 rows and 1 columns\n",
      "Presolve time: 0.00s\n",
      "Presolved: 5 rows, 9 columns, 25 nonzeros\n",
      "Variable types: 0 continuous, 9 integer (9 binary)\n",
      "\n",
      "Root relaxation: objective 1.100000e+01, 9 iterations, 0.00 seconds (0.00 work units)\n",
      "\n",
      "    Nodes    |    Current Node    |     Objective Bounds      |     Work\n",
      " Expl Unexpl |  Obj  Depth IntInf | Incumbent    BestBd   Gap | It/Node Time\n",
      "\n",
      "     0     0   11.00000    0    4    6.00000   11.00000  83.3%     -    0s\n",
      "H    0     0                       8.0000000   11.00000  37.5%     -    0s\n",
      "H    0     0                       9.0000000   11.00000  22.2%     -    0s\n",
      "*    0     0               0      10.0000000   10.00000  0.00%     -    0s\n",
      "\n",
      "Cutting planes:\n",
      "  Gomory: 1\n",
      "  Cover: 2\n",
      "\n",
      "Explored 1 nodes (11 simplex iterations) in 0.03 seconds (0.00 work units)\n",
      "Thread count was 4 (of 4 available processors)\n",
      "\n",
      "Solution count 4: 10 9 8 6 \n",
      "\n",
      "Optimal solution found (tolerance 1.00e-04)\n",
      "Best objective 1.000000000000e+01, best bound 1.000000000000e+01, gap 0.0000%\n"
     ]
    }
   ],
   "source": [
    "O = np.array([0,1,2,3,4])\n",
    "I = np.array([0,1,2,3,4])\n",
    "A = np.array([0,1,2,3,4])\n",
    "\n",
    "\n",
    "u = {0: {0:3,1:0,2:1,3:0,4:0}, 1: {0:0,1:1,2:0,3:1,4:0}, 2:{0:0,1:0,2:1,3:0,4:2}, 3:{0:1,1:0,2:2,3:1,4:1}, 4:{0:0,1:1,2:0,3:0,4:0} }\n",
    "p = {0:{0:2,1:1,2:1,3:0,4:1}, 1:{0:2,1:1,2:2,3:0,4:1}, 2: {0:0,1:2,2:0,3:1,4:2}, 3: {0:2,1:1,2:0,3:1,4:1}, 4:{0:0,1:1,2:2,3:1,4:2} }\n",
    "\n",
    "\n",
    "modelo = Model(\"Modelo\")\n",
    "\n",
    "x = modelo.addVars(O, lb=0, ub=1, vtype=GRB.BINARY, name=\"x orden\")\n",
    "y = modelo.addVars(A, lb=0, ub=1, vtype=GRB.BINARY, name=\"y pasillo\")\n",
    "\n",
    "modelo.addConstrs(( sum(u[o][i] *x[o] for o in O ) <= sum( p[a][i]*y[a]  for a in A)    for i in  I   ))\n",
    "\n",
    "modelo.addConstr(( sum(y[a] for a in A ) == 2 ))\n",
    "modelo.setObjective(quicksum(x[o]*u[o][i] for o in O for i in I) , GRB.MAXIMIZE)\n",
    "\n",
    "#modelo.setParam('OutputFlag', False)\n",
    "modelo.optimize()\n",
    "\n"
   ]
  },
  {
   "cell_type": "code",
   "execution_count": 10,
   "id": "19a20492",
   "metadata": {},
   "outputs": [
    {
     "data": {
      "text/plain": [
       "15.0"
      ]
     },
     "execution_count": 10,
     "metadata": {},
     "output_type": "execute_result"
    }
   ],
   "source": [
    "modelo.ObjVal"
   ]
  },
  {
   "cell_type": "code",
   "execution_count": 8,
   "id": "c9b202af",
   "metadata": {},
   "outputs": [
    {
     "name": "stdout",
     "output_type": "stream",
     "text": [
      "x orden[0] = 1.0\n",
      "x orden[1] = 1.0\n",
      "x orden[2] = 1.0\n",
      "x orden[3] = 0.0\n",
      "x orden[4] = 1.0\n",
      "y pasillo[0] = -0.0\n",
      "y pasillo[1] = 1.0\n",
      "y pasillo[2] = -0.0\n",
      "y pasillo[3] = 1.0\n",
      "y pasillo[4] = -0.0\n"
     ]
    }
   ],
   "source": [
    "for v in modelo.getVars():\n",
    "    print(f\"{v.VarName} = {v.X}\")"
   ]
  },
  {
   "cell_type": "code",
   "execution_count": 1,
   "id": "aca22780",
   "metadata": {},
   "outputs": [
    {
     "name": "stdout",
     "output_type": "stream",
     "text": [
      "Set parameter Username\n",
      "Set parameter LicenseID to value 2598815\n",
      "Academic license - for non-commercial use only - expires 2025-12-12\n",
      "Mejor D: 1\n",
      "Mejor numerador: 5.0\n",
      "Mejor ratio objetivo (f.o.): 5.0000\n",
      "x = {np.int64(0): 0.0, np.int64(1): 1.0, np.int64(2): 1.0, np.int64(3): 0.0, np.int64(4): 0.0}\n",
      "y = {np.int64(0): 0.0, np.int64(1): 0.0, np.int64(2): 0.0, np.int64(3): 0.0, np.int64(4): 1.0}\n"
     ]
    }
   ],
   "source": [
    "from gurobipy import *\n",
    "\n",
    "import numpy as np\n",
    "\n",
    "O = np.array([0,1,2,3,4])\n",
    "I = np.array([0,1,2,3,4])\n",
    "A = np.array([0,1,2,3,4])\n",
    "\n",
    "u = {\n",
    "    0: {0:3,1:0,2:1,3:0,4:0},\n",
    "    1: {0:0,1:1,2:0,3:1,4:0},\n",
    "    2: {0:0,1:0,2:1,3:0,4:2},\n",
    "    3: {0:1,1:0,2:2,3:1,4:1},\n",
    "    4: {0:0,1:1,2:0,3:0,4:0}\n",
    "}\n",
    "\n",
    "p = {\n",
    "    0: {0:2,1:1,2:1,3:0,4:1},\n",
    "    1: {0:2,1:1,2:2,3:0,4:1},\n",
    "    2: {0:0,1:2,2:0,3:1,4:2},\n",
    "    3: {0:2,1:1,2:0,3:1,4:1},\n",
    "    4: {0:0,1:1,2:2,3:1,4:2}\n",
    "}\n",
    "\n",
    "mejor_ratio = -1\n",
    "mejor_solucion = {}\n",
    "\n",
    "# Buscar para cada valor posible del denominador (de 1 a 5)\n",
    "for D in range(1, 6):\n",
    "\n",
    "    modelo = Model(f\"Modelo_lineal_D={D}\")\n",
    "    modelo.setParam('OutputFlag', 0)  # No mostrar log\n",
    "\n",
    "    x = modelo.addVars(O, vtype=GRB.BINARY, name=\"x\")\n",
    "    y = modelo.addVars(A, vtype=GRB.BINARY, name=\"y\")\n",
    "\n",
    "    # Restricciones de capacidad\n",
    "    for i in I:\n",
    "        modelo.addConstr(sum(u[o][i] * x[o] for o in O) <= sum(p[a][i] * y[a] for a in A))\n",
    "\n",
    "    # Fijar la suma del denominador\n",
    "    modelo.addConstr(sum(y[a] for a in A) == D)\n",
    "\n",
    "    # Maximizar numerador\n",
    "    modelo.setObjective(quicksum(x[o] * u[o][i] for o in O for i in I), GRB.MAXIMIZE)\n",
    "\n",
    "    modelo.optimize()\n",
    "\n",
    "    if modelo.status == GRB.OPTIMAL:\n",
    "        numerador = modelo.objVal\n",
    "        ratio = numerador / D\n",
    "\n",
    "        if ratio > mejor_ratio:\n",
    "            mejor_ratio = ratio\n",
    "            mejor_solucion = {\n",
    "                'D': D,\n",
    "                'x': {o: x[o].X for o in O},\n",
    "                'y': {a: y[a].X for a in A},\n",
    "                'numerador': numerador,\n",
    "                'objetivo': ratio\n",
    "            }\n",
    "\n",
    "# Mostrar la mejor solución encontrada\n",
    "print(f\"Mejor D: {mejor_solucion['D']}\")\n",
    "print(f\"Mejor numerador: {mejor_solucion['numerador']}\")\n",
    "print(f\"Mejor ratio objetivo (f.o.): {mejor_solucion['objetivo']:.4f}\")\n",
    "print(\"x =\", mejor_solucion['x'])\n",
    "print(\"y =\", mejor_solucion['y'])\n"
   ]
  },
  {
   "cell_type": "code",
   "execution_count": null,
   "id": "2d056bc7",
   "metadata": {},
   "outputs": [],
   "source": []
  }
 ],
 "metadata": {
  "kernelspec": {
   "display_name": "Python 3",
   "language": "python",
   "name": "python3"
  },
  "language_info": {
   "codemirror_mode": {
    "name": "ipython",
    "version": 3
   },
   "file_extension": ".py",
   "mimetype": "text/x-python",
   "name": "python",
   "nbconvert_exporter": "python",
   "pygments_lexer": "ipython3",
   "version": "3.11.9"
  }
 },
 "nbformat": 4,
 "nbformat_minor": 5
}
